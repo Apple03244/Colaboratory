{
  "nbformat": 4,
  "nbformat_minor": 0,
  "metadata": {
    "colab": {
      "provenance": [],
      "authorship_tag": "ABX9TyOPQkZ9ZX+r4TKPMM7diq15",
      "include_colab_link": true
    },
    "kernelspec": {
      "name": "python3",
      "display_name": "Python 3"
    },
    "language_info": {
      "name": "python"
    },
    "accelerator": "TPU"
  },
  "cells": [
    {
      "cell_type": "markdown",
      "metadata": {
        "id": "view-in-github",
        "colab_type": "text"
      },
      "source": [
        "<a href=\"https://colab.research.google.com/github/Apple03244/Colaboratory/blob/main/Other_Parameter.ipynb\" target=\"_parent\"><img src=\"https://colab.research.google.com/assets/colab-badge.svg\" alt=\"Open In Colab\"/></a>"
      ]
    },
    {
      "cell_type": "markdown",
      "source": [
        "## 그래디언트 소실 문제"
      ],
      "metadata": {
        "id": "gkdsE3CpQUVK"
      }
    },
    {
      "cell_type": "markdown",
      "source": [
        "#### 초기화\n",
        "\n",
        "각 층의 연결 가중치를 랜덤으로 초기화 하는 방법\n"
      ],
      "metadata": {
        "id": "89LxAXUGkz2K"
      }
    },
    {
      "cell_type": "markdown",
      "source": [
        "|전략별 구분|활성화 함수|$\\sigma^2$|\n",
        "|--|--|--|\n",
        "|글로럿|linear,tanh,softmax|$1/fan_{avg}$|\n",
        "|He|Relu,LearkyRelu,GELU,Swish,Mish|$2/fan_{in}$|\n",
        "|르쿤|SELU|$1/fan_{in}$|\n",
        "\n",
        "케라스는 기본적으로 글로럿 초기화(균등분포)를 사용함"
      ],
      "metadata": {
        "id": "6gXaLDoIjOOa"
      }
    },
    {
      "cell_type": "code",
      "source": [
        "import tensorflow.keras as tk"
      ],
      "metadata": {
        "id": "RkL2lFN7k360"
      },
      "execution_count": 1,
      "outputs": []
    },
    {
      "cell_type": "code",
      "source": [
        "# 기존의 방법 의외의 설정방법"
      ],
      "metadata": {
        "id": "ZbIImAZSkM4m"
      },
      "execution_count": 2,
      "outputs": []
    },
    {
      "cell_type": "markdown",
      "source": [
        "- 파라미터 설멍\n",
        "\n",
        "|파라미터|설명|\n",
        "|--|--|\n",
        "|scale|무작위로 초기화할때 사용되는 표준편차를 결정|\n",
        "|mode|fan_in,fan_out,fan_avg|\n",
        "|distribution|uniform,untruncated_normal(정규분포),truncated_normal(절단 정규분포)|"
      ],
      "metadata": {
        "id": "Eu4l1O5SfBvA"
      }
    },
    {
      "cell_type": "code",
      "source": [
        "tk.initializers.variance_scaling(scale=2,distribution=\"untruncated_normal\",seed=10,mode='fan_in')"
      ],
      "metadata": {
        "colab": {
          "base_uri": "https://localhost:8080/"
        },
        "id": "Ek6cRDDF7nvc",
        "outputId": "32a3f874-63bb-4b92-d85f-a8e04a369e4e"
      },
      "execution_count": 3,
      "outputs": [
        {
          "output_type": "execute_result",
          "data": {
            "text/plain": [
              "<keras.initializers.initializers.VarianceScaling at 0x7d419a042020>"
            ]
          },
          "metadata": {},
          "execution_count": 3
        }
      ]
    },
    {
      "cell_type": "markdown",
      "source": [
        "### 고급 활성화 함수"
      ],
      "metadata": {
        "id": "-b6oOF0BhTF3"
      }
    },
    {
      "cell_type": "markdown",
      "source": [
        "### 1. Leaky ReLU"
      ],
      "metadata": {
        "id": "kNxQyDGJh7-L"
      }
    },
    {
      "cell_type": "code",
      "source": [
        "def leakyrelu(x,a=0.3):\n",
        "  return max([a*x,x])"
      ],
      "metadata": {
        "id": "c2OE-xt4leai"
      },
      "execution_count": 4,
      "outputs": []
    },
    {
      "cell_type": "code",
      "source": [
        "import matplotlib.pyplot as plt\n",
        "import seaborn as sb"
      ],
      "metadata": {
        "id": "6ud84aUKpeft"
      },
      "execution_count": 5,
      "outputs": []
    },
    {
      "cell_type": "markdown",
      "source": [
        "### 2. ELU&SELU"
      ],
      "metadata": {
        "id": "OCAgix9jpkjI"
      }
    },
    {
      "cell_type": "code",
      "source": [
        "import numpy as np\n",
        "def elu(x,a=0.2):\n",
        "  if x<0:\n",
        "    return a*(np.exp(x)-1)\n",
        "  else:\n",
        "    return x"
      ],
      "metadata": {
        "id": "RYVc-BNUuqUe"
      },
      "execution_count": 6,
      "outputs": []
    },
    {
      "cell_type": "code",
      "source": [
        "def selu(x):\n",
        "  return 1.05*elu(x,a=1.67)"
      ],
      "metadata": {
        "id": "ZLikj8NFu6je"
      },
      "execution_count": 7,
      "outputs": []
    },
    {
      "cell_type": "code",
      "source": [
        "import pandas as pd\n",
        "dataset=dict.fromkeys([\"leaky\",\"elu\",\"selu\"])\n",
        "for x in dataset:\n",
        "  if x==\"leaky\":\n",
        "    dataset[x]=list(map(leakyrelu,range(-3,3)))\n",
        "  elif x==\"elu\":\n",
        "    dataset[x]=list(map(elu,range(-3,3)))\n",
        "  else:\n",
        "    dataset[x]=list(map(selu,range(-3,3)))\n",
        "df=pd.DataFrame(dataset)"
      ],
      "metadata": {
        "id": "b49DA9Uww8jO"
      },
      "execution_count": 8,
      "outputs": []
    },
    {
      "cell_type": "code",
      "source": [
        "df.index=range(-3,3)"
      ],
      "metadata": {
        "id": "8UPygQhv6FjE"
      },
      "execution_count": 9,
      "outputs": []
    },
    {
      "cell_type": "code",
      "source": [
        "plt.figure(figsize=(6,3))\n",
        "for x in df:\n",
        "  sb.lineplot(df,x=df.index,y=df[x],label=x)\n",
        "plt.grid()\n",
        "plt.show()\n",
        "plt.close()"
      ],
      "metadata": {
        "colab": {
          "base_uri": "https://localhost:8080/",
          "height": 291
        },
        "id": "FGfGdKJfBvHS",
        "outputId": "b19c1965-9c88-4082-8e3b-0d3a2a15f7b5"
      },
      "execution_count": 10,
      "outputs": [
        {
          "output_type": "display_data",
          "data": {
            "text/plain": [
              "<Figure size 600x300 with 1 Axes>"
            ],
            "image/png": "[encoded data removed]"
          },
          "metadata": {}
        }
      ]
    },
    {
      "cell_type": "markdown",
      "source": [
        "### 주의사항\n",
        "\n",
        "|함수|설명|\n",
        "|--|--|\n",
        "|elu|계산속도가 느림(지수함수가 포함되어있으으로)|\n",
        "|selu|아래의 조선들이 필요함|\n",
        "\n",
        "- 조건 1. 입력특성이 반드시 정규화가 되어있어야함\n",
        "- 조건 2. 모든 은닉층이 르쿤 정규 분포로 초기화되어야함\n",
        "- 조건 3. 일반적인 MLP(deep&wide같은 경우 적용이 안됌)에서만 적용됨.\n",
        "- 조건 4. 다른 규제를 사용할 수 없음"
      ],
      "metadata": {
        "id": "5INV2p_sCaLY"
      }
    },
    {
      "cell_type": "markdown",
      "source": [
        "GELU & Swish 도 참고로 알아두자\n",
        "\n",
        "- 단, 과대적합의 문제가 있을 수 있음"
      ],
      "metadata": {
        "id": "axdOr0YeDv5Y"
      }
    },
    {
      "cell_type": "markdown",
      "source": [
        "## 배치 정규화"
      ],
      "metadata": {
        "id": "0LNlsyvTH7rU"
      }
    },
    {
      "cell_type": "markdown",
      "source": [
        "### 과정\n",
        "\n",
        "- 1. $\\eta_B = \\frac{1}{m_B} \\sum_{i=1}^{m_B}x^{(i)}$\n",
        "\n",
        "- 2. $\\sigma_B^2 = \\frac{1}{m_B} \\sum_{i=1}^{m_B}(x^{(i)}-\\eta_B)^2$\n",
        "\n",
        "- 3. $\\hat x^{(i)} = \\frac{x^{(i)}-\\eta_B}{\\sqrt {\\sigma_B^2+\\epsilon}}$\n",
        "\n",
        "- 4. $z^{(i)}= r * \\hat x^{(i)} + \\beta$\n",
        "\n",
        "여기서 $\\epsilon$은 분모가 0이 되지않게 해주는 smoothing term 이며, 보편적으로 $10^{-5}$ 이다"
      ],
      "metadata": {
        "id": "6CbTltXQKUs_"
      }
    },
    {
      "cell_type": "markdown",
      "source": [
        "## 그래디언트 클리핑"
      ],
      "metadata": {
        "id": "hch-qFTXLywU"
      }
    },
    {
      "cell_type": "markdown",
      "source": [
        "모델링 한 후 그래디언트를 봐야하므로 일단 스킵"
      ],
      "metadata": {
        "id": "gownAONkCrqo"
      }
    },
    {
      "cell_type": "code",
      "source": [],
      "metadata": {
        "id": "Nlvg6mXJCxUq"
      },
      "execution_count": null,
      "outputs": []
    }
  ]
}