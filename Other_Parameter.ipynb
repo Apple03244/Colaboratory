{
  "nbformat": 4,
  "nbformat_minor": 0,
  "metadata": {
    "colab": {
      "provenance": [],
      "authorship_tag": "ABX9TyM32QGrEuu0aVZ/1LJBLbie",
      "include_colab_link": true
    },
    "kernelspec": {
      "name": "python3",
      "display_name": "Python 3"
    },
    "language_info": {
      "name": "python"
    },
    "accelerator": "TPU"
  },
  "cells": [
    {
      "cell_type": "markdown",
      "metadata": {
        "id": "view-in-github",
        "colab_type": "text"
      },
      "source": [
        "<a href=\"https://colab.research.google.com/github/Apple03244/Colaboratory/blob/main/Other_Parameter.ipynb\" target=\"_parent\"><img src=\"https://colab.research.google.com/assets/colab-badge.svg\" alt=\"Open In Colab\"/></a>"
      ]
    },
    {
      "cell_type": "markdown",
      "source": [
        "## 그래디언트 소실 문제"
      ],
      "metadata": {
        "id": "gkdsE3CpQUVK"
      }
    },
    {
      "cell_type": "markdown",
      "source": [
        "#### 초기화\n",
        "\n",
        "각 층의 연결 가중치를 랜덤으로 초기화 하는 방법\n"
      ],
      "metadata": {
        "id": "89LxAXUGkz2K"
      }
    },
    {
      "cell_type": "markdown",
      "source": [
        "|전략별 구분|활성화 함수|$\\sigma^2$|\n",
        "|--|--|--|\n",
        "|글로럿|linear,tanh,softmax|$1/fan_{avg}$|\n",
        "|He|Relu,LearkyRelu,GELU,Swish,Mish|$2/fan_{in}$|\n",
        "|르쿤|SELU|$1/fan_{in}$|\n",
        "\n",
        "케라스는 기본적으로 글로럿 초기화(균등분포)를 사용함"
      ],
      "metadata": {
        "id": "6gXaLDoIjOOa"
      }
    },
    {
      "cell_type": "code",
      "source": [
        "import tensorflow.keras as tk"
      ],
      "metadata": {
        "id": "RkL2lFN7k360"
      },
      "execution_count": 1,
      "outputs": []
    },
    {
      "cell_type": "code",
      "source": [
        "# 기존의 방법 의외의 설정방법"
      ],
      "metadata": {
        "id": "ZbIImAZSkM4m"
      },
      "execution_count": 2,
      "outputs": []
    },
    {
      "cell_type": "markdown",
      "source": [
        "- 파라미터 설멍\n",
        "\n",
        "|파라미터|설명|\n",
        "|--|--|\n",
        "|scale|무작위로 초기화할때 사용되는 표준편차를 결정|\n",
        "|mode|fan_in,fan_out,fan_avg|\n",
        "|distribution|uniform,untruncated_normal(정규분포),truncated_normal(절단 정규분포)|"
      ],
      "metadata": {
        "id": "Eu4l1O5SfBvA"
      }
    },
    {
      "cell_type": "code",
      "source": [
        "tk.initializers.variance_scaling(scale=2,distribution=\"untruncated_normal\",seed=10,mode='fan_in')"
      ],
      "metadata": {
        "colab": {
          "base_uri": "https://localhost:8080/"
        },
        "id": "Ek6cRDDF7nvc",
        "outputId": "15025181-8bdd-4fb7-e365-c5c301890604"
      },
      "execution_count": 3,
      "outputs": [
        {
          "output_type": "execute_result",
          "data": {
            "text/plain": [
              "<keras.initializers.initializers.VarianceScaling at 0x7b28e45b54b0>"
            ]
          },
          "metadata": {},
          "execution_count": 3
        }
      ]
    },
    {
      "cell_type": "markdown",
      "source": [
        "### 고급 활성화 함수"
      ],
      "metadata": {
        "id": "-b6oOF0BhTF3"
      }
    },
    {
      "cell_type": "markdown",
      "source": [
        "### 1. Leaky ReLU"
      ],
      "metadata": {
        "id": "kNxQyDGJh7-L"
      }
    },
    {
      "cell_type": "code",
      "source": [
        "def leakyrelu(x,a=0.3):\n",
        "  return max([a*x,x])"
      ],
      "metadata": {
        "id": "c2OE-xt4leai"
      },
      "execution_count": 4,
      "outputs": []
    },
    {
      "cell_type": "code",
      "source": [
        "import matplotlib.pyplot as plt\n",
        "import seaborn as sb"
      ],
      "metadata": {
        "id": "6ud84aUKpeft"
      },
      "execution_count": 5,
      "outputs": []
    },
    {
      "cell_type": "markdown",
      "source": [
        "### 2. ELU&SELU"
      ],
      "metadata": {
        "id": "OCAgix9jpkjI"
      }
    },
    {
      "cell_type": "code",
      "source": [
        "import numpy as np\n",
        "def elu(x,a=0.2):\n",
        "  if x<0:\n",
        "    return a(np.exp(x)-1)\n",
        "  else:\n",
        "    return x"
      ],
      "metadata": {
        "id": "RYVc-BNUuqUe"
      },
      "execution_count": 6,
      "outputs": []
    },
    {
      "cell_type": "code",
      "source": [
        "def selu(x):\n",
        "  return 1.05*elu(x,a=1.67)"
      ],
      "metadata": {
        "id": "ZLikj8NFu6je"
      },
      "execution_count": 7,
      "outputs": []
    },
    {
      "cell_type": "code",
      "source": [],
      "metadata": {
        "id": "b49DA9Uww8jO"
      },
      "execution_count": null,
      "outputs": []
    }
  ]
}