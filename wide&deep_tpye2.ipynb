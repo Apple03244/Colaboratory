{
  "nbformat": 4,
  "nbformat_minor": 0,
  "metadata": {
    "colab": {
      "private_outputs": true,
      "provenance": [],
      "authorship_tag": "ABX9TyOYgCUeIFnM9rPLJ7LzmKOQ",
      "include_colab_link": true
    },
    "kernelspec": {
      "name": "python3",
      "display_name": "Python 3"
    },
    "language_info": {
      "name": "python"
    },
    "accelerator": "TPU"
  },
  "cells": [
    {
      "cell_type": "markdown",
      "metadata": {
        "id": "view-in-github",
        "colab_type": "text"
      },
      "source": [
        "<a href=\"https://colab.research.google.com/github/Apple03244/Colaboratory/blob/main/wide%26deep_tpye2.ipynb\" target=\"_parent\"><img src=\"https://colab.research.google.com/assets/colab-badge.svg\" alt=\"Open In Colab\"/></a>"
      ]
    },
    {
      "cell_type": "code",
      "execution_count": null,
      "metadata": {
        "id": "8TJVQRJOmPtp"
      },
      "outputs": [],
      "source": [
        "import google.colab as colab\n",
        "f=colab.files\n",
        "File=f.upload()"
      ]
    },
    {
      "cell_type": "code",
      "source": [
        "import pandas as pd\n",
        "data=pd.read_csv('/content/train.csv')"
      ],
      "metadata": {
        "id": "rStj3ZDbmfAx"
      },
      "execution_count": null,
      "outputs": []
    },
    {
      "cell_type": "code",
      "source": [
        "data[\"일시\"]=data[\"일시\"].apply(lambda x:pd.to_datetime(x))"
      ],
      "metadata": {
        "id": "id6MPPVJmuO0"
      },
      "execution_count": null,
      "outputs": []
    },
    {
      "cell_type": "code",
      "source": [
        "data.head(3)"
      ],
      "metadata": {
        "id": "zvyXUYTdmwVH"
      },
      "execution_count": null,
      "outputs": []
    },
    {
      "cell_type": "code",
      "source": [
        "target='평균기온'\n",
        "wide_feature=[\"최고기온\",\"최저기온\"]\n",
        "deep_feature=data.columns.difference([target,\"일시\"]+wide_feature)"
      ],
      "metadata": {
        "id": "9a3nBR8an2Y-"
      },
      "execution_count": null,
      "outputs": []
    },
    {
      "cell_type": "code",
      "source": [
        "import sklearn.preprocessing as skpre\n",
        "import sklearn.pipeline as skpip\n",
        "import sklearn.model_selection as skmod\n",
        "import sklearn.impute as skimp\n",
        "import sklearn.compose as skcomp"
      ],
      "metadata": {
        "id": "xYyaqfKloS_h"
      },
      "execution_count": null,
      "outputs": []
    },
    {
      "cell_type": "code",
      "source": [
        "import tensorflow as ts\n",
        "import tensorflow.keras as tk\n",
        "ts.random.set_seed(10)"
      ],
      "metadata": {
        "id": "4oFqT2CCoUAf"
      },
      "execution_count": null,
      "outputs": []
    },
    {
      "cell_type": "markdown",
      "source": [
        "## step 1. Preprocessing\n",
        "- 1. Nan값 처리\n",
        "- 2. Pipeline을 이용해서 원본은 가지고 있자"
      ],
      "metadata": {
        "id": "EJ0HH3R5zJHC"
      }
    },
    {
      "cell_type": "code",
      "source": [
        "fill_na=skpip.make_pipeline(skimp.SimpleImputer(strategy=\"constant\",fill_value=0))\n",
        "preprocess=skcomp.make_column_transformer((fill_na,data.columns.difference([\"일시\",target])),remainder='passthrough')"
      ],
      "metadata": {
        "id": "nH3UEhqeqeAE"
      },
      "execution_count": null,
      "outputs": []
    },
    {
      "cell_type": "code",
      "source": [
        "def drop_(x):\n",
        "  for t in [\"pipeline__\",\"remainder__\"]:\n",
        "    x=x.replace(t,\"\")\n",
        "  return x\n",
        "preprocess.fit(X=data)\n",
        "columns_name=list(map(drop_,preprocess.get_feature_names_out()))\n",
        "trans_data=pd.DataFrame(preprocess.transform(X=data)\n",
        ",columns=columns_name)"
      ],
      "metadata": {
        "id": "oEx4LVPQuuCE"
      },
      "execution_count": null,
      "outputs": []
    },
    {
      "cell_type": "code",
      "source": [
        "trans_data.head(4)"
      ],
      "metadata": {
        "id": "gtk5dI1ivPCV"
      },
      "execution_count": null,
      "outputs": []
    },
    {
      "cell_type": "code",
      "source": [
        "trans_data[trans_data.select_dtypes(\"object\").columns]=trans_data.select_dtypes(\"object\").astype('float')"
      ],
      "metadata": {
        "id": "t0JQrddtIxW-"
      },
      "execution_count": null,
      "outputs": []
    },
    {
      "cell_type": "markdown",
      "source": [
        "## step 2. model making\n",
        "- wide input과 deep input을 구분지어 받아 하나의 값을 계산하게끔 만들자"
      ],
      "metadata": {
        "id": "KN5BC8yMxDUf"
      }
    },
    {
      "cell_type": "code",
      "source": [
        "# 1-1. input 구분\n",
        "wide_input=tk.layers.Input(shape=[len(wide_feature)])\n",
        "deep_input=tk.layers.Input(shape=[len(deep_feature)])\n",
        "# 2-1. 정규화\n",
        "standard_layer_wide=tk.layers.Normalization()\n",
        "standard_layer_deep=tk.layers.Normalization()\n",
        "# 2-2. 정규화 진행\n",
        "standard_wide=standard_layer_wide(wide_input)\n",
        "standard_deep=standard_layer_deep(deep_input)\n",
        "# 3-1. wide 층은 그냥 바로 out으로 보낼것\n",
        "deep_layer_1=tk.layers.Dense(units=30,activation='relu')\n",
        "deep_layer_2=tk.layers.Dense(units=30,activation='relu')\n",
        "# 3-2. 진행\n",
        "deep_1=deep_layer_1(standard_deep)\n",
        "deep_2=deep_layer_2(deep_1)\n",
        "# 4-1. wide 층과 deep 층을 합치기\n",
        "concate=tk.layers.Concatenate()([standard_wide,deep_2])\n",
        "# 5-1. output층\n",
        "output=tk.layers.Dense(1)(concate)"
      ],
      "metadata": {
        "id": "qoiTRI8MzfZ8"
      },
      "execution_count": null,
      "outputs": []
    },
    {
      "cell_type": "code",
      "source": [
        "# 6-1 위의 모습을 가진 모델 생성\n",
        "type_2_model=tk.Model(inputs=(wide_input,deep_input),outputs=output)\n",
        "# 6-2.모델 컴파일\n",
        "optimizer=ts.optimizers.SGD(learning_rate=0.01)\n",
        "loss=ts.losses.mae\n",
        "type_2_model.compile(optimizer=optimizer,loss=loss,metrics=[\"RootMeanSquaredError\"])"
      ],
      "metadata": {
        "id": "hS1RxtvJ4ILp"
      },
      "execution_count": null,
      "outputs": []
    },
    {
      "cell_type": "code",
      "source": [
        "import numpy as np\n",
        "np.random.seed(10)\n",
        "train,test=skmod.train_test_split(trans_data,train_size=0.7,random_state=10)"
      ],
      "metadata": {
        "id": "Vc6bSaRV8_CA"
      },
      "execution_count": null,
      "outputs": []
    },
    {
      "cell_type": "code",
      "source": [
        "# 7-1. 정규층 학습\n",
        "standard_layer_wide.adapt(train[wide_feature])\n",
        "standard_layer_deep.adapt(train[deep_feature])"
      ],
      "metadata": {
        "id": "-cFe_aeKC85K"
      },
      "execution_count": null,
      "outputs": []
    },
    {
      "cell_type": "code",
      "source": [
        "# 학습\n",
        "train_input=(train[wide_feature],train[deep_feature])\n",
        "test_input=(test[wide_feature],test[deep_feature])\n",
        "run_history=type_2_model.fit(x=train_input,y=train[[target]],epochs=30,validation_data=(test_input,test[target]),workers=-1)"
      ],
      "metadata": {
        "id": "zPUcarn9Gd8s"
      },
      "execution_count": null,
      "outputs": []
    },
    {
      "cell_type": "code",
      "source": [
        "# 8-1. 모델 평가\n",
        "import matplotlib.pyplot as plt\n",
        "import seaborn as sb\n",
        "his_data=pd.DataFrame(run_history.history)\n",
        "plt.figure()\n",
        "for col in his_data.columns:\n",
        "  sb.lineplot(x=his_data.index,y=his_data[col],label=col)\n",
        "plt.grid()\n",
        "plt.show()\n",
        "plt.close()"
      ],
      "metadata": {
        "id": "IvGW1WNLDSR4"
      },
      "execution_count": null,
      "outputs": []
    },
    {
      "cell_type": "markdown",
      "source": [
        "확실히 시계열 데이터를 일반적으로만 계산시키니 위와같은 학습결과가 나온다"
      ],
      "metadata": {
        "id": "Fdj-FRzcFCVK"
      }
    },
    {
      "cell_type": "code",
      "source": [],
      "metadata": {
        "id": "gfJKGrdJLnnE"
      },
      "execution_count": null,
      "outputs": []
    }
  ]
}