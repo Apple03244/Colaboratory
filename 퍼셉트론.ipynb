{
  "nbformat": 4,
  "nbformat_minor": 0,
  "metadata": {
    "colab": {
      "provenance": [],
      "authorship_tag": "ABX9TyOR39n+KPopHedr/msnLFaa",
      "include_colab_link": true
    },
    "kernelspec": {
      "name": "python3",
      "display_name": "Python 3"
    },
    "language_info": {
      "name": "python"
    },
    "accelerator": "TPU"
  },
  "cells": [
    {
      "cell_type": "markdown",
      "metadata": {
        "id": "view-in-github",
        "colab_type": "text"
      },
      "source": [
        "<a href=\"https://colab.research.google.com/github/Apple03244/Colaboratory/blob/main/%ED%8D%BC%EC%85%89%ED%8A%B8%EB%A1%A0.ipynb\" target=\"_parent\"><img src=\"https://colab.research.google.com/assets/colab-badge.svg\" alt=\"Open In Colab\"/></a>"
      ]
    },
    {
      "cell_type": "code",
      "execution_count": 56,
      "metadata": {
        "id": "fnks_Ydt24CO"
      },
      "outputs": [],
      "source": [
        "import google.colab as colab"
      ]
    },
    {
      "cell_type": "code",
      "source": [
        "module=colab.files"
      ],
      "metadata": {
        "id": "a8sR82QWzt9-"
      },
      "execution_count": 57,
      "outputs": []
    },
    {
      "cell_type": "code",
      "source": [
        "#file_data=module.upload()"
      ],
      "metadata": {
        "id": "_WbLt5C8z0V3"
      },
      "execution_count": 58,
      "outputs": []
    },
    {
      "cell_type": "code",
      "source": [
        "import pandas as pd\n",
        "data=pd.read_csv('/content/train.csv')"
      ],
      "metadata": {
        "id": "Al26H_OAz6Eb"
      },
      "execution_count": 59,
      "outputs": []
    },
    {
      "cell_type": "code",
      "source": [
        "use_data=data.dropna(axis=0)\n",
        "use_data[\"일시\"]=pd.to_datetime(use_data[\"일시\"])"
      ],
      "metadata": {
        "colab": {
          "base_uri": "https://localhost:8080/"
        },
        "id": "2VnFzZPE0G-2",
        "outputId": "703771b3-9745-408c-d33f-5e25307ada36"
      },
      "execution_count": 60,
      "outputs": [
        {
          "output_type": "stream",
          "name": "stderr",
          "text": [
            "<ipython-input-60-089be084eef0>:2: SettingWithCopyWarning: \n",
            "A value is trying to be set on a copy of a slice from a DataFrame.\n",
            "Try using .loc[row_indexer,col_indexer] = value instead\n",
            "\n",
            "See the caveats in the documentation: https://pandas.pydata.org/pandas-docs/stable/user_guide/indexing.html#returning-a-view-versus-a-copy\n",
            "  use_data[\"일시\"]=pd.to_datetime(use_data[\"일시\"])\n"
          ]
        }
      ]
    },
    {
      "cell_type": "code",
      "source": [
        "target='평균기온'"
      ],
      "metadata": {
        "id": "n3eIn2DU0I-C"
      },
      "execution_count": 61,
      "outputs": []
    },
    {
      "cell_type": "markdown",
      "source": [
        "## 1. 회귀를 위한 다중퍼셉트론(사이킷런)"
      ],
      "metadata": {
        "id": "iv0iBCDf0q9p"
      }
    },
    {
      "cell_type": "code",
      "source": [
        "import sklearn.neural_network as skneu\n",
        "import sklearn.preprocessing as skpre\n",
        "import sklearn.model_selection as skmod\n",
        "import numpy as np\n",
        "np.random.seed(10)\n",
        "import sklearn.pipeline as skpip"
      ],
      "metadata": {
        "id": "fE4I4hY-1USD"
      },
      "execution_count": 62,
      "outputs": []
    },
    {
      "cell_type": "code",
      "source": [
        "mlp_model=skneu.MLPRegressor(hidden_layer_sizes=(50,50,50),random_state=10)\n",
        "mlp_reg=skpip.make_pipeline(skpre.StandardScaler(),mlp_model)"
      ],
      "metadata": {
        "id": "S0umsrIT2Yek"
      },
      "execution_count": 63,
      "outputs": []
    },
    {
      "cell_type": "code",
      "source": [
        "train_data=use_data[use_data[\"일시\"].apply(lambda x:x.year)<=2020]\n",
        "test_data=use_data[use_data[\"일시\"].apply(lambda x:x.year)>2020]"
      ],
      "metadata": {
        "id": "SYrh2zz56W9h"
      },
      "execution_count": 64,
      "outputs": []
    },
    {
      "cell_type": "code",
      "source": [
        "mlp_reg.fit(X=train_data[train_data.columns.difference([\"일시\",target])],y=train_data[target])"
      ],
      "metadata": {
        "colab": {
          "base_uri": "https://localhost:8080/",
          "height": 124
        },
        "id": "8dPrpW8h6w6a",
        "outputId": "7bd6a1ce-6f47-4db9-a6ae-c1e2180571ef"
      },
      "execution_count": 65,
      "outputs": [
        {
          "output_type": "execute_result",
          "data": {
            "text/plain": [
              "Pipeline(steps=[('standardscaler', StandardScaler()),\n",
              "                ('mlpregressor',\n",
              "                 MLPRegressor(hidden_layer_sizes=(50, 50, 50),\n",
              "                              random_state=10))])"
            ],
            "text/html": [
              "<style>#sk-container-id-2 {color: black;background-color: white;}#sk-container-id-2 pre{padding: 0;}#sk-container-id-2 div.sk-toggleable {background-color: white;}#sk-container-id-2 label.sk-toggleable__label {cursor: pointer;display: block;width: 100%;margin-bottom: 0;padding: 0.3em;box-sizing: border-box;text-align: center;}#sk-container-id-2 label.sk-toggleable__label-arrow:before {content: \"▸\";float: left;margin-right: 0.25em;color: #696969;}#sk-container-id-2 label.sk-toggleable__label-arrow:hover:before {color: black;}#sk-container-id-2 div.sk-estimator:hover label.sk-toggleable__label-arrow:before {color: black;}#sk-container-id-2 div.sk-toggleable__content {max-height: 0;max-width: 0;overflow: hidden;text-align: left;background-color: #f0f8ff;}#sk-container-id-2 div.sk-toggleable__content pre {margin: 0.2em;color: black;border-radius: 0.25em;background-color: #f0f8ff;}#sk-container-id-2 input.sk-toggleable__control:checked~div.sk-toggleable__content {max-height: 200px;max-width: 100%;overflow: auto;}#sk-container-id-2 input.sk-toggleable__control:checked~label.sk-toggleable__label-arrow:before {content: \"▾\";}#sk-container-id-2 div.sk-estimator input.sk-toggleable__control:checked~label.sk-toggleable__label {background-color: #d4ebff;}#sk-container-id-2 div.sk-label input.sk-toggleable__control:checked~label.sk-toggleable__label {background-color: #d4ebff;}#sk-container-id-2 input.sk-hidden--visually {border: 0;clip: rect(1px 1px 1px 1px);clip: rect(1px, 1px, 1px, 1px);height: 1px;margin: -1px;overflow: hidden;padding: 0;position: absolute;width: 1px;}#sk-container-id-2 div.sk-estimator {font-family: monospace;background-color: #f0f8ff;border: 1px dotted black;border-radius: 0.25em;box-sizing: border-box;margin-bottom: 0.5em;}#sk-container-id-2 div.sk-estimator:hover {background-color: #d4ebff;}#sk-container-id-2 div.sk-parallel-item::after {content: \"\";width: 100%;border-bottom: 1px solid gray;flex-grow: 1;}#sk-container-id-2 div.sk-label:hover label.sk-toggleable__label {background-color: #d4ebff;}#sk-container-id-2 div.sk-serial::before {content: \"\";position: absolute;border-left: 1px solid gray;box-sizing: border-box;top: 0;bottom: 0;left: 50%;z-index: 0;}#sk-container-id-2 div.sk-serial {display: flex;flex-direction: column;align-items: center;background-color: white;padding-right: 0.2em;padding-left: 0.2em;position: relative;}#sk-container-id-2 div.sk-item {position: relative;z-index: 1;}#sk-container-id-2 div.sk-parallel {display: flex;align-items: stretch;justify-content: center;background-color: white;position: relative;}#sk-container-id-2 div.sk-item::before, #sk-container-id-2 div.sk-parallel-item::before {content: \"\";position: absolute;border-left: 1px solid gray;box-sizing: border-box;top: 0;bottom: 0;left: 50%;z-index: -1;}#sk-container-id-2 div.sk-parallel-item {display: flex;flex-direction: column;z-index: 1;position: relative;background-color: white;}#sk-container-id-2 div.sk-parallel-item:first-child::after {align-self: flex-end;width: 50%;}#sk-container-id-2 div.sk-parallel-item:last-child::after {align-self: flex-start;width: 50%;}#sk-container-id-2 div.sk-parallel-item:only-child::after {width: 0;}#sk-container-id-2 div.sk-dashed-wrapped {border: 1px dashed gray;margin: 0 0.4em 0.5em 0.4em;box-sizing: border-box;padding-bottom: 0.4em;background-color: white;}#sk-container-id-2 div.sk-label label {font-family: monospace;font-weight: bold;display: inline-block;line-height: 1.2em;}#sk-container-id-2 div.sk-label-container {text-align: center;}#sk-container-id-2 div.sk-container {/* jupyter's `normalize.less` sets `[hidden] { display: none; }` but bootstrap.min.css set `[hidden] { display: none !important; }` so we also need the `!important` here to be able to override the default hidden behavior on the sphinx rendered scikit-learn.org. See: https://github.com/scikit-learn/scikit-learn/issues/21755 */display: inline-block !important;position: relative;}#sk-container-id-2 div.sk-text-repr-fallback {display: none;}</style><div id=\"sk-container-id-2\" class=\"sk-top-container\"><div class=\"sk-text-repr-fallback\"><pre>Pipeline(steps=[(&#x27;standardscaler&#x27;, StandardScaler()),\n",
              "                (&#x27;mlpregressor&#x27;,\n",
              "                 MLPRegressor(hidden_layer_sizes=(50, 50, 50),\n",
              "                              random_state=10))])</pre><b>In a Jupyter environment, please rerun this cell to show the HTML representation or trust the notebook. <br />On GitHub, the HTML representation is unable to render, please try loading this page with nbviewer.org.</b></div><div class=\"sk-container\" hidden><div class=\"sk-item sk-dashed-wrapped\"><div class=\"sk-label-container\"><div class=\"sk-label sk-toggleable\"><input class=\"sk-toggleable__control sk-hidden--visually\" id=\"sk-estimator-id-4\" type=\"checkbox\" ><label for=\"sk-estimator-id-4\" class=\"sk-toggleable__label sk-toggleable__label-arrow\">Pipeline</label><div class=\"sk-toggleable__content\"><pre>Pipeline(steps=[(&#x27;standardscaler&#x27;, StandardScaler()),\n",
              "                (&#x27;mlpregressor&#x27;,\n",
              "                 MLPRegressor(hidden_layer_sizes=(50, 50, 50),\n",
              "                              random_state=10))])</pre></div></div></div><div class=\"sk-serial\"><div class=\"sk-item\"><div class=\"sk-estimator sk-toggleable\"><input class=\"sk-toggleable__control sk-hidden--visually\" id=\"sk-estimator-id-5\" type=\"checkbox\" ><label for=\"sk-estimator-id-5\" class=\"sk-toggleable__label sk-toggleable__label-arrow\">StandardScaler</label><div class=\"sk-toggleable__content\"><pre>StandardScaler()</pre></div></div></div><div class=\"sk-item\"><div class=\"sk-estimator sk-toggleable\"><input class=\"sk-toggleable__control sk-hidden--visually\" id=\"sk-estimator-id-6\" type=\"checkbox\" ><label for=\"sk-estimator-id-6\" class=\"sk-toggleable__label sk-toggleable__label-arrow\">MLPRegressor</label><div class=\"sk-toggleable__content\"><pre>MLPRegressor(hidden_layer_sizes=(50, 50, 50), random_state=10)</pre></div></div></div></div></div></div></div>"
            ]
          },
          "metadata": {},
          "execution_count": 65
        }
      ]
    },
    {
      "cell_type": "code",
      "source": [
        "import sklearn.metrics as skmet\n",
        "pred_y=mlp_reg.predict(X=test_data[test_data.columns.difference([\"일시\",target])])\n",
        "skmet.mean_squared_error(y_true=test_data[target],y_pred=pred_y,squared=False)"
      ],
      "metadata": {
        "colab": {
          "base_uri": "https://localhost:8080/"
        },
        "id": "LasrxdF1-3Ux",
        "outputId": "0ec525d0-dfa3-4d2e-827a-03ce66b030ce"
      },
      "execution_count": 66,
      "outputs": [
        {
          "output_type": "execute_result",
          "data": {
            "text/plain": [
              "0.5648677372050859"
            ]
          },
          "metadata": {},
          "execution_count": 66
        }
      ]
    },
    {
      "cell_type": "markdown",
      "source": [
        "## 2. 케라스를 이용한 다중 퍼셉트론"
      ],
      "metadata": {
        "id": "Kw7k_Yqm_SdD"
      }
    },
    {
      "cell_type": "code",
      "source": [
        "import tensorflow as ts"
      ],
      "metadata": {
        "id": "fhIFvbe7EPOo"
      },
      "execution_count": 67,
      "outputs": []
    },
    {
      "cell_type": "code",
      "source": [
        "# 랜덤시드 고정\n",
        "ts.random.set_seed(10)"
      ],
      "metadata": {
        "id": "XBnTeadFGwWj"
      },
      "execution_count": 68,
      "outputs": []
    },
    {
      "cell_type": "markdown",
      "source": [
        "### step 1. 모델 생성"
      ],
      "metadata": {
        "id": "_hPRHQQlOCzn"
      }
    },
    {
      "cell_type": "code",
      "source": [
        "model=ts.keras.Sequential() # 간단한 Sequential 모델을 만들거라 선언\n",
        "model.add(ts.keras.layers.Input(shape=(9,))) # input shape 는\n",
        "#ts.keras.Flatten 은 이미지를 1차원으로 전처리 해주는 충\n",
        "model.add(ts.keras.layers.Dense(300,activation='relu'))\n",
        "model.add(ts.keras.layers.Dense(100,activation='relu'))\n",
        "model.add(ts.keras.layers.Dense(10,activation=\"relu\"))\n",
        "model.add(ts.keras.layers.Dense(1,activation=\"tanh\"))"
      ],
      "metadata": {
        "id": "jmOrHBxSHTAV"
      },
      "execution_count": 69,
      "outputs": []
    },
    {
      "cell_type": "code",
      "source": [
        "model.summary()"
      ],
      "metadata": {
        "colab": {
          "base_uri": "https://localhost:8080/"
        },
        "id": "ZCqFbwVVKw8C",
        "outputId": "39f05770-f230-41bf-b9bc-2653db5b8ecd"
      },
      "execution_count": 70,
      "outputs": [
        {
          "output_type": "stream",
          "name": "stdout",
          "text": [
            "Model: \"sequential_6\"\n",
            "_________________________________________________________________\n",
            " Layer (type)                Output Shape              Param #   \n",
            "=================================================================\n",
            " dense_12 (Dense)            (None, 300)               3000      \n",
            "                                                                 \n",
            " dense_13 (Dense)            (None, 100)               30100     \n",
            "                                                                 \n",
            " dense_14 (Dense)            (None, 10)                1010      \n",
            "                                                                 \n",
            " dense_15 (Dense)            (None, 1)                 11        \n",
            "                                                                 \n",
            "=================================================================\n",
            "Total params: 34,121\n",
            "Trainable params: 34,121\n",
            "Non-trainable params: 0\n",
            "_________________________________________________________________\n"
          ]
        }
      ]
    },
    {
      "cell_type": "code",
      "source": [
        "model.layers"
      ],
      "metadata": {
        "colab": {
          "base_uri": "https://localhost:8080/"
        },
        "id": "sRb-VhKOMKU5",
        "outputId": "79bffb55-ca6b-465c-f1d4-acfd294b057e"
      },
      "execution_count": 74,
      "outputs": [
        {
          "output_type": "execute_result",
          "data": {
            "text/plain": [
              "[<keras.layers.core.dense.Dense at 0x7f950e2df070>,\n",
              " <keras.layers.core.dense.Dense at 0x7f950e2dece0>,\n",
              " <keras.layers.core.dense.Dense at 0x7f950b1cbb80>,\n",
              " <keras.layers.core.dense.Dense at 0x7f950b0884c0>]"
            ]
          },
          "metadata": {},
          "execution_count": 74
        }
      ]
    },
    {
      "cell_type": "markdown",
      "source": [
        "### step 2. 모델 컴파일(평가기준)"
      ],
      "metadata": {
        "id": "UeFkUCRmN8YG"
      }
    },
    {
      "cell_type": "code",
      "source": [
        "model.compile(optimizer=ts.keras.optimizers.SGD(learning_rate=1e-6),\n",
        "              loss=ts.keras.metrics.mean_absolute_error,\n",
        "              metrics=[\"mae\"]) #Adam은 역전파 알고리즘의 변형"
      ],
      "metadata": {
        "id": "LAuMe5dsPLUf"
      },
      "execution_count": 82,
      "outputs": []
    },
    {
      "cell_type": "markdown",
      "source": [
        "### step 3. 모델 훈련 및 평가"
      ],
      "metadata": {
        "id": "x_LXTk9yPB0G"
      }
    },
    {
      "cell_type": "code",
      "source": [
        "train_feature=train_data.columns.difference([\"일시\",target])\n",
        "model.fit(x=train_data[train_feature],y=train_data[target],\n",
        "          epochs=100,validation_data=[test_data[train_feature],test_data[target]])"
      ],
      "metadata": {
        "colab": {
          "base_uri": "https://localhost:8080/"
        },
        "id": "gSZ1Cm2uQDnL",
        "outputId": "3d734e83-2eac-4435-8a8c-bd39413bc53e"
      },
      "execution_count": 84,
      "outputs": [
        {
          "output_type": "stream",
          "name": "stdout",
          "text": [
            "Epoch 1/100\n",
            "212/212 [==============================] - 2s 10ms/step - loss: 14.1936 - mae: 14.1936 - val_loss: 15.3398 - val_mae: 15.3398\n",
            "Epoch 2/100\n",
            "212/212 [==============================] - 1s 5ms/step - loss: 14.1854 - mae: 14.1854 - val_loss: 15.3326 - val_mae: 15.3326\n",
            "Epoch 3/100\n",
            "212/212 [==============================] - 1s 3ms/step - loss: 14.1785 - mae: 14.1785 - val_loss: 15.3265 - val_mae: 15.3265\n",
            "Epoch 4/100\n",
            "212/212 [==============================] - 1s 2ms/step - loss: 14.1726 - mae: 14.1726 - val_loss: 15.3213 - val_mae: 15.3213\n",
            "Epoch 5/100\n",
            "212/212 [==============================] - 1s 3ms/step - loss: 14.1676 - mae: 14.1676 - val_loss: 15.3168 - val_mae: 15.3168\n",
            "Epoch 6/100\n",
            "212/212 [==============================] - 1s 2ms/step - loss: 14.1632 - mae: 14.1632 - val_loss: 15.3129 - val_mae: 15.3129\n",
            "Epoch 7/100\n",
            "212/212 [==============================] - 1s 3ms/step - loss: 14.1592 - mae: 14.1592 - val_loss: 15.3095 - val_mae: 15.3095\n",
            "Epoch 8/100\n",
            "212/212 [==============================] - 1s 3ms/step - loss: 14.1558 - mae: 14.1558 - val_loss: 15.3065 - val_mae: 15.3065\n",
            "Epoch 9/100\n",
            "212/212 [==============================] - 1s 3ms/step - loss: 14.1526 - mae: 14.1526 - val_loss: 15.3038 - val_mae: 15.3038\n",
            "Epoch 10/100\n",
            "212/212 [==============================] - 0s 2ms/step - loss: 14.1498 - mae: 14.1498 - val_loss: 15.3014 - val_mae: 15.3014\n",
            "Epoch 11/100\n",
            "212/212 [==============================] - 1s 2ms/step - loss: 14.1473 - mae: 14.1473 - val_loss: 15.2992 - val_mae: 15.2992\n",
            "Epoch 12/100\n",
            "212/212 [==============================] - 1s 2ms/step - loss: 14.1449 - mae: 14.1449 - val_loss: 15.2973 - val_mae: 15.2973\n",
            "Epoch 13/100\n",
            "212/212 [==============================] - 1s 2ms/step - loss: 14.1428 - mae: 14.1428 - val_loss: 15.2955 - val_mae: 15.2955\n",
            "Epoch 14/100\n",
            "212/212 [==============================] - 1s 2ms/step - loss: 14.1408 - mae: 14.1408 - val_loss: 15.2938 - val_mae: 15.2938\n",
            "Epoch 15/100\n",
            "212/212 [==============================] - 1s 2ms/step - loss: 14.1389 - mae: 14.1389 - val_loss: 15.2924 - val_mae: 15.2924\n",
            "Epoch 16/100\n",
            "212/212 [==============================] - 0s 2ms/step - loss: 14.1372 - mae: 14.1372 - val_loss: 15.2910 - val_mae: 15.2910\n",
            "Epoch 17/100\n",
            "212/212 [==============================] - 1s 2ms/step - loss: 14.1356 - mae: 14.1356 - val_loss: 15.2897 - val_mae: 15.2897\n",
            "Epoch 18/100\n",
            "212/212 [==============================] - 1s 3ms/step - loss: 14.1341 - mae: 14.1341 - val_loss: 15.2886 - val_mae: 15.2886\n",
            "Epoch 19/100\n",
            "212/212 [==============================] - 1s 4ms/step - loss: 14.1327 - mae: 14.1327 - val_loss: 15.2875 - val_mae: 15.2875\n",
            "Epoch 20/100\n",
            "212/212 [==============================] - 1s 4ms/step - loss: 14.1314 - mae: 14.1314 - val_loss: 15.2865 - val_mae: 15.2865\n",
            "Epoch 21/100\n",
            "212/212 [==============================] - 1s 3ms/step - loss: 14.1301 - mae: 14.1301 - val_loss: 15.2855 - val_mae: 15.2855\n",
            "Epoch 22/100\n",
            "212/212 [==============================] - 1s 4ms/step - loss: 14.1290 - mae: 14.1290 - val_loss: 15.2846 - val_mae: 15.2846\n",
            "Epoch 23/100\n",
            "212/212 [==============================] - 1s 3ms/step - loss: 14.1279 - mae: 14.1279 - val_loss: 15.2838 - val_mae: 15.2838\n",
            "Epoch 24/100\n",
            "212/212 [==============================] - 0s 2ms/step - loss: 14.1268 - mae: 14.1268 - val_loss: 15.2830 - val_mae: 15.2830\n",
            "Epoch 25/100\n",
            "212/212 [==============================] - 1s 2ms/step - loss: 14.1258 - mae: 14.1258 - val_loss: 15.2823 - val_mae: 15.2823\n",
            "Epoch 26/100\n",
            "212/212 [==============================] - 0s 2ms/step - loss: 14.1249 - mae: 14.1249 - val_loss: 15.2816 - val_mae: 15.2816\n",
            "Epoch 27/100\n",
            "212/212 [==============================] - 1s 3ms/step - loss: 14.1240 - mae: 14.1240 - val_loss: 15.2809 - val_mae: 15.2809\n",
            "Epoch 28/100\n",
            "212/212 [==============================] - 1s 3ms/step - loss: 14.1232 - mae: 14.1232 - val_loss: 15.2803 - val_mae: 15.2803\n",
            "Epoch 29/100\n",
            "212/212 [==============================] - 1s 3ms/step - loss: 14.1224 - mae: 14.1224 - val_loss: 15.2797 - val_mae: 15.2797\n",
            "Epoch 30/100\n",
            "212/212 [==============================] - 1s 3ms/step - loss: 14.1217 - mae: 14.1217 - val_loss: 15.2792 - val_mae: 15.2792\n",
            "Epoch 31/100\n",
            "212/212 [==============================] - 1s 3ms/step - loss: 14.1209 - mae: 14.1209 - val_loss: 15.2786 - val_mae: 15.2786\n",
            "Epoch 32/100\n",
            "212/212 [==============================] - 1s 2ms/step - loss: 14.1203 - mae: 14.1203 - val_loss: 15.2781 - val_mae: 15.2781\n",
            "Epoch 33/100\n",
            "212/212 [==============================] - 1s 3ms/step - loss: 14.1196 - mae: 14.1196 - val_loss: 15.2777 - val_mae: 15.2777\n",
            "Epoch 34/100\n",
            "212/212 [==============================] - 1s 2ms/step - loss: 14.1190 - mae: 14.1190 - val_loss: 15.2773 - val_mae: 15.2773\n",
            "Epoch 35/100\n",
            "212/212 [==============================] - 1s 2ms/step - loss: 14.1184 - mae: 14.1184 - val_loss: 15.2769 - val_mae: 15.2769\n",
            "Epoch 36/100\n",
            "212/212 [==============================] - 1s 3ms/step - loss: 14.1179 - mae: 14.1179 - val_loss: 15.2765 - val_mae: 15.2765\n",
            "Epoch 37/100\n",
            "212/212 [==============================] - 1s 2ms/step - loss: 14.1174 - mae: 14.1174 - val_loss: 15.2761 - val_mae: 15.2761\n",
            "Epoch 38/100\n",
            "212/212 [==============================] - 1s 3ms/step - loss: 14.1169 - mae: 14.1169 - val_loss: 15.2758 - val_mae: 15.2758\n",
            "Epoch 39/100\n",
            "212/212 [==============================] - 1s 2ms/step - loss: 14.1164 - mae: 14.1164 - val_loss: 15.2754 - val_mae: 15.2754\n",
            "Epoch 40/100\n",
            "212/212 [==============================] - 1s 2ms/step - loss: 14.1160 - mae: 14.1160 - val_loss: 15.2751 - val_mae: 15.2751\n",
            "Epoch 41/100\n",
            "212/212 [==============================] - 1s 2ms/step - loss: 14.1156 - mae: 14.1156 - val_loss: 15.2748 - val_mae: 15.2748\n",
            "Epoch 42/100\n",
            "212/212 [==============================] - 1s 4ms/step - loss: 14.1152 - mae: 14.1152 - val_loss: 15.2746 - val_mae: 15.2746\n",
            "Epoch 43/100\n",
            "212/212 [==============================] - 1s 4ms/step - loss: 14.1148 - mae: 14.1148 - val_loss: 15.2743 - val_mae: 15.2743\n",
            "Epoch 44/100\n",
            "212/212 [==============================] - 1s 4ms/step - loss: 14.1144 - mae: 14.1144 - val_loss: 15.2741 - val_mae: 15.2741\n",
            "Epoch 45/100\n",
            "212/212 [==============================] - 1s 4ms/step - loss: 14.1141 - mae: 14.1141 - val_loss: 15.2739 - val_mae: 15.2739\n",
            "Epoch 46/100\n",
            "212/212 [==============================] - 1s 3ms/step - loss: 14.1138 - mae: 14.1138 - val_loss: 15.2737 - val_mae: 15.2737\n",
            "Epoch 47/100\n",
            "212/212 [==============================] - 0s 2ms/step - loss: 14.1135 - mae: 14.1135 - val_loss: 15.2735 - val_mae: 15.2735\n",
            "Epoch 48/100\n",
            "212/212 [==============================] - 1s 2ms/step - loss: 14.1132 - mae: 14.1132 - val_loss: 15.2733 - val_mae: 15.2733\n",
            "Epoch 49/100\n",
            "212/212 [==============================] - 1s 2ms/step - loss: 14.1130 - mae: 14.1130 - val_loss: 15.2731 - val_mae: 15.2731\n",
            "Epoch 50/100\n",
            "212/212 [==============================] - 1s 2ms/step - loss: 14.1127 - mae: 14.1127 - val_loss: 15.2729 - val_mae: 15.2729\n",
            "Epoch 51/100\n",
            "212/212 [==============================] - 1s 2ms/step - loss: 14.1125 - mae: 14.1125 - val_loss: 15.2728 - val_mae: 15.2728\n",
            "Epoch 52/100\n",
            "212/212 [==============================] - 1s 2ms/step - loss: 14.1122 - mae: 14.1122 - val_loss: 15.2726 - val_mae: 15.2726\n",
            "Epoch 53/100\n",
            "212/212 [==============================] - 0s 2ms/step - loss: 14.1120 - mae: 14.1120 - val_loss: 15.2725 - val_mae: 15.2725\n",
            "Epoch 54/100\n",
            "212/212 [==============================] - 1s 2ms/step - loss: 14.1118 - mae: 14.1118 - val_loss: 15.2724 - val_mae: 15.2724\n",
            "Epoch 55/100\n",
            "212/212 [==============================] - 1s 2ms/step - loss: 14.1116 - mae: 14.1116 - val_loss: 15.2722 - val_mae: 15.2722\n",
            "Epoch 56/100\n",
            "212/212 [==============================] - 1s 2ms/step - loss: 14.1114 - mae: 14.1114 - val_loss: 15.2721 - val_mae: 15.2721\n",
            "Epoch 57/100\n",
            "212/212 [==============================] - 1s 3ms/step - loss: 14.1112 - mae: 14.1112 - val_loss: 15.2720 - val_mae: 15.2720\n",
            "Epoch 58/100\n",
            "212/212 [==============================] - 1s 2ms/step - loss: 14.1110 - mae: 14.1110 - val_loss: 15.2719 - val_mae: 15.2719\n",
            "Epoch 59/100\n",
            "212/212 [==============================] - 1s 3ms/step - loss: 14.1109 - mae: 14.1109 - val_loss: 15.2718 - val_mae: 15.2718\n",
            "Epoch 60/100\n",
            "212/212 [==============================] - 1s 2ms/step - loss: 14.1107 - mae: 14.1107 - val_loss: 15.2717 - val_mae: 15.2717\n",
            "Epoch 61/100\n",
            "212/212 [==============================] - 1s 2ms/step - loss: 14.1105 - mae: 14.1105 - val_loss: 15.2716 - val_mae: 15.2716\n",
            "Epoch 62/100\n",
            "212/212 [==============================] - 0s 2ms/step - loss: 14.1104 - mae: 14.1104 - val_loss: 15.2715 - val_mae: 15.2715\n",
            "Epoch 63/100\n",
            "212/212 [==============================] - 1s 2ms/step - loss: 14.1102 - mae: 14.1102 - val_loss: 15.2714 - val_mae: 15.2714\n",
            "Epoch 64/100\n",
            "212/212 [==============================] - 0s 2ms/step - loss: 14.1101 - mae: 14.1101 - val_loss: 15.2713 - val_mae: 15.2713\n",
            "Epoch 65/100\n",
            "212/212 [==============================] - 1s 3ms/step - loss: 14.1100 - mae: 14.1100 - val_loss: 15.2712 - val_mae: 15.2712\n",
            "Epoch 66/100\n",
            "212/212 [==============================] - 1s 4ms/step - loss: 14.1098 - mae: 14.1098 - val_loss: 15.2711 - val_mae: 15.2711\n",
            "Epoch 67/100\n",
            "212/212 [==============================] - 1s 4ms/step - loss: 14.1097 - mae: 14.1097 - val_loss: 15.2711 - val_mae: 15.2711\n",
            "Epoch 68/100\n",
            "212/212 [==============================] - 1s 3ms/step - loss: 14.1096 - mae: 14.1096 - val_loss: 15.2710 - val_mae: 15.2710\n",
            "Epoch 69/100\n",
            "212/212 [==============================] - 1s 3ms/step - loss: 14.1095 - mae: 14.1095 - val_loss: 15.2709 - val_mae: 15.2709\n",
            "Epoch 70/100\n",
            "212/212 [==============================] - 1s 3ms/step - loss: 14.1093 - mae: 14.1093 - val_loss: 15.2708 - val_mae: 15.2708\n",
            "Epoch 71/100\n",
            "212/212 [==============================] - 1s 3ms/step - loss: 14.1092 - mae: 14.1092 - val_loss: 15.2708 - val_mae: 15.2708\n",
            "Epoch 72/100\n",
            "212/212 [==============================] - 1s 2ms/step - loss: 14.1091 - mae: 14.1091 - val_loss: 15.2707 - val_mae: 15.2707\n",
            "Epoch 73/100\n",
            "212/212 [==============================] - 1s 2ms/step - loss: 14.1090 - mae: 14.1090 - val_loss: 15.2706 - val_mae: 15.2706\n",
            "Epoch 74/100\n",
            "212/212 [==============================] - 0s 2ms/step - loss: 14.1089 - mae: 14.1089 - val_loss: 15.2706 - val_mae: 15.2706\n",
            "Epoch 75/100\n",
            "212/212 [==============================] - 0s 2ms/step - loss: 14.1088 - mae: 14.1088 - val_loss: 15.2705 - val_mae: 15.2705\n",
            "Epoch 76/100\n",
            "212/212 [==============================] - 0s 2ms/step - loss: 14.1087 - mae: 14.1087 - val_loss: 15.2705 - val_mae: 15.2705\n",
            "Epoch 77/100\n",
            "212/212 [==============================] - 1s 2ms/step - loss: 14.1086 - mae: 14.1086 - val_loss: 15.2704 - val_mae: 15.2704\n",
            "Epoch 78/100\n",
            "212/212 [==============================] - 1s 2ms/step - loss: 14.1085 - mae: 14.1085 - val_loss: 15.2704 - val_mae: 15.2704\n",
            "Epoch 79/100\n",
            "212/212 [==============================] - 1s 2ms/step - loss: 14.1084 - mae: 14.1084 - val_loss: 15.2703 - val_mae: 15.2703\n",
            "Epoch 80/100\n",
            "212/212 [==============================] - 1s 2ms/step - loss: 14.1083 - mae: 14.1083 - val_loss: 15.2703 - val_mae: 15.2703\n",
            "Epoch 81/100\n",
            "212/212 [==============================] - 1s 2ms/step - loss: 14.1083 - mae: 14.1083 - val_loss: 15.2702 - val_mae: 15.2702\n",
            "Epoch 82/100\n",
            "212/212 [==============================] - 1s 2ms/step - loss: 14.1082 - mae: 14.1082 - val_loss: 15.2702 - val_mae: 15.2702\n",
            "Epoch 83/100\n",
            "212/212 [==============================] - 1s 3ms/step - loss: 14.1081 - mae: 14.1081 - val_loss: 15.2701 - val_mae: 15.2701\n",
            "Epoch 84/100\n",
            "212/212 [==============================] - 0s 2ms/step - loss: 14.1080 - mae: 14.1080 - val_loss: 15.2701 - val_mae: 15.2701\n",
            "Epoch 85/100\n",
            "212/212 [==============================] - 1s 2ms/step - loss: 14.1079 - mae: 14.1079 - val_loss: 15.2700 - val_mae: 15.2700\n",
            "Epoch 86/100\n",
            "212/212 [==============================] - 1s 2ms/step - loss: 14.1079 - mae: 14.1079 - val_loss: 15.2700 - val_mae: 15.2700\n",
            "Epoch 87/100\n",
            "212/212 [==============================] - 1s 2ms/step - loss: 14.1078 - mae: 14.1078 - val_loss: 15.2699 - val_mae: 15.2699\n",
            "Epoch 88/100\n",
            "212/212 [==============================] - 1s 2ms/step - loss: 14.1077 - mae: 14.1077 - val_loss: 15.2699 - val_mae: 15.2699\n",
            "Epoch 89/100\n",
            "212/212 [==============================] - 1s 3ms/step - loss: 14.1077 - mae: 14.1077 - val_loss: 15.2699 - val_mae: 15.2699\n",
            "Epoch 90/100\n",
            "212/212 [==============================] - 1s 4ms/step - loss: 14.1076 - mae: 14.1076 - val_loss: 15.2698 - val_mae: 15.2698\n",
            "Epoch 91/100\n",
            "212/212 [==============================] - 1s 4ms/step - loss: 14.1075 - mae: 14.1075 - val_loss: 15.2698 - val_mae: 15.2698\n",
            "Epoch 92/100\n",
            "212/212 [==============================] - 1s 3ms/step - loss: 14.1075 - mae: 14.1075 - val_loss: 15.2698 - val_mae: 15.2698\n",
            "Epoch 93/100\n",
            "212/212 [==============================] - 1s 4ms/step - loss: 14.1074 - mae: 14.1074 - val_loss: 15.2697 - val_mae: 15.2697\n",
            "Epoch 94/100\n",
            "212/212 [==============================] - 1s 3ms/step - loss: 14.1073 - mae: 14.1073 - val_loss: 15.2697 - val_mae: 15.2697\n",
            "Epoch 95/100\n",
            "212/212 [==============================] - 1s 2ms/step - loss: 14.1073 - mae: 14.1073 - val_loss: 15.2697 - val_mae: 15.2697\n",
            "Epoch 96/100\n",
            "212/212 [==============================] - 1s 2ms/step - loss: 14.1072 - mae: 14.1072 - val_loss: 15.2696 - val_mae: 15.2696\n",
            "Epoch 97/100\n",
            "212/212 [==============================] - 1s 2ms/step - loss: 14.1072 - mae: 14.1072 - val_loss: 15.2696 - val_mae: 15.2696\n",
            "Epoch 98/100\n",
            "212/212 [==============================] - 1s 3ms/step - loss: 14.1071 - mae: 14.1071 - val_loss: 15.2696 - val_mae: 15.2696\n",
            "Epoch 99/100\n",
            "212/212 [==============================] - 1s 2ms/step - loss: 14.1070 - mae: 14.1070 - val_loss: 15.2695 - val_mae: 15.2695\n",
            "Epoch 100/100\n",
            "212/212 [==============================] - 1s 3ms/step - loss: 14.1070 - mae: 14.1070 - val_loss: 15.2695 - val_mae: 15.2695\n"
          ]
        },
        {
          "output_type": "execute_result",
          "data": {
            "text/plain": [
              "<keras.callbacks.History at 0x7f950b1c8970>"
            ]
          },
          "metadata": {},
          "execution_count": 84
        }
      ]
    },
    {
      "cell_type": "code",
      "source": [],
      "metadata": {
        "id": "5CyYkZtvVjRV"
      },
      "execution_count": null,
      "outputs": []
    }
  ]
}