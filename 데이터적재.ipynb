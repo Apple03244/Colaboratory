{
  "nbformat": 4,
  "nbformat_minor": 0,
  "metadata": {
    "colab": {
      "provenance": [],
      "authorship_tag": "ABX9TyOfdXfFR2y97NtgH3aLpUtt",
      "include_colab_link": true
    },
    "kernelspec": {
      "name": "python3",
      "display_name": "Python 3"
    },
    "language_info": {
      "name": "python"
    },
    "accelerator": "TPU"
  },
  "cells": [
    {
      "cell_type": "markdown",
      "metadata": {
        "id": "view-in-github",
        "colab_type": "text"
      },
      "source": [
        "<a href=\"https://colab.research.google.com/github/Apple03244/Colaboratory/blob/main/%EB%8D%B0%EC%9D%B4%ED%84%B0%EC%A0%81%EC%9E%AC.ipynb\" target=\"_parent\"><img src=\"https://colab.research.google.com/assets/colab-badge.svg\" alt=\"Open In Colab\"/></a>"
      ]
    },
    {
      "cell_type": "code",
      "execution_count": null,
      "metadata": {
        "id": "mJ4UNEZuc_Md"
      },
      "outputs": [],
      "source": [
        "import tensorflow as tf"
      ]
    },
    {
      "cell_type": "code",
      "source": [
        "X=tf.range(10)"
      ],
      "metadata": {
        "id": "JTZeqDvsdG_f"
      },
      "execution_count": null,
      "outputs": []
    },
    {
      "cell_type": "code",
      "source": [
        "dataset=tf.data.Dataset.from_tensor_slices(X)"
      ],
      "metadata": {
        "id": "aDyYV77wdRAX"
      },
      "execution_count": null,
      "outputs": []
    },
    {
      "cell_type": "code",
      "source": [
        "for i in dataset:\n",
        "  print(i)"
      ],
      "metadata": {
        "colab": {
          "base_uri": "https://localhost:8080/"
        },
        "id": "0TeHxs4ddoSp",
        "outputId": "cdd80075-577e-4fbc-d61b-7e8da602af28"
      },
      "execution_count": null,
      "outputs": [
        {
          "output_type": "stream",
          "name": "stdout",
          "text": [
            "tf.Tensor(0, shape=(), dtype=int32)\n",
            "tf.Tensor(1, shape=(), dtype=int32)\n",
            "tf.Tensor(2, shape=(), dtype=int32)\n",
            "tf.Tensor(3, shape=(), dtype=int32)\n",
            "tf.Tensor(4, shape=(), dtype=int32)\n",
            "tf.Tensor(5, shape=(), dtype=int32)\n",
            "tf.Tensor(6, shape=(), dtype=int32)\n",
            "tf.Tensor(7, shape=(), dtype=int32)\n",
            "tf.Tensor(8, shape=(), dtype=int32)\n",
            "tf.Tensor(9, shape=(), dtype=int32)\n"
          ]
        }
      ]
    },
    {
      "cell_type": "code",
      "source": [
        "x2={'a':([1,2,3],[4,5,6]),'b':[1,2,3]}\n",
        "dataset2=tf.data.Dataset.from_tensor_slices(x2)"
      ],
      "metadata": {
        "id": "rfVkd81weHVy"
      },
      "execution_count": null,
      "outputs": []
    },
    {
      "cell_type": "code",
      "source": [
        "for i in dataset2:\n",
        "  print(i)"
      ],
      "metadata": {
        "colab": {
          "base_uri": "https://localhost:8080/"
        },
        "id": "EXxEIs0If9RE",
        "outputId": "85df7f14-694b-4e16-853d-c8ab80197835"
      },
      "execution_count": null,
      "outputs": [
        {
          "output_type": "stream",
          "name": "stdout",
          "text": [
            "{'a': (<tf.Tensor: shape=(), dtype=int32, numpy=1>, <tf.Tensor: shape=(), dtype=int32, numpy=4>), 'b': <tf.Tensor: shape=(), dtype=int32, numpy=1>}\n",
            "{'a': (<tf.Tensor: shape=(), dtype=int32, numpy=2>, <tf.Tensor: shape=(), dtype=int32, numpy=5>), 'b': <tf.Tensor: shape=(), dtype=int32, numpy=2>}\n",
            "{'a': (<tf.Tensor: shape=(), dtype=int32, numpy=3>, <tf.Tensor: shape=(), dtype=int32, numpy=6>), 'b': <tf.Tensor: shape=(), dtype=int32, numpy=3>}\n"
          ]
        }
      ]
    },
    {
      "cell_type": "markdown",
      "source": [
        "## 연쇄변환"
      ],
      "metadata": {
        "id": "sNl4Fn3KgZsm"
      }
    },
    {
      "cell_type": "code",
      "source": [
        "repeat_dataset=dataset2.repeat(3)"
      ],
      "metadata": {
        "id": "EiI6cNQKhrIQ"
      },
      "execution_count": null,
      "outputs": []
    },
    {
      "cell_type": "code",
      "source": [
        "for i in repeat_dataset:\n",
        "  print(i)"
      ],
      "metadata": {
        "colab": {
          "base_uri": "https://localhost:8080/"
        },
        "id": "D825CZV2h1Wu",
        "outputId": "b07ea1bc-7bb2-43fd-e9dc-3a6e8f213665"
      },
      "execution_count": null,
      "outputs": [
        {
          "output_type": "stream",
          "name": "stdout",
          "text": [
            "{'a': (<tf.Tensor: shape=(), dtype=int32, numpy=1>, <tf.Tensor: shape=(), dtype=int32, numpy=4>), 'b': <tf.Tensor: shape=(), dtype=int32, numpy=1>}\n",
            "{'a': (<tf.Tensor: shape=(), dtype=int32, numpy=2>, <tf.Tensor: shape=(), dtype=int32, numpy=5>), 'b': <tf.Tensor: shape=(), dtype=int32, numpy=2>}\n",
            "{'a': (<tf.Tensor: shape=(), dtype=int32, numpy=3>, <tf.Tensor: shape=(), dtype=int32, numpy=6>), 'b': <tf.Tensor: shape=(), dtype=int32, numpy=3>}\n",
            "{'a': (<tf.Tensor: shape=(), dtype=int32, numpy=1>, <tf.Tensor: shape=(), dtype=int32, numpy=4>), 'b': <tf.Tensor: shape=(), dtype=int32, numpy=1>}\n",
            "{'a': (<tf.Tensor: shape=(), dtype=int32, numpy=2>, <tf.Tensor: shape=(), dtype=int32, numpy=5>), 'b': <tf.Tensor: shape=(), dtype=int32, numpy=2>}\n",
            "{'a': (<tf.Tensor: shape=(), dtype=int32, numpy=3>, <tf.Tensor: shape=(), dtype=int32, numpy=6>), 'b': <tf.Tensor: shape=(), dtype=int32, numpy=3>}\n",
            "{'a': (<tf.Tensor: shape=(), dtype=int32, numpy=1>, <tf.Tensor: shape=(), dtype=int32, numpy=4>), 'b': <tf.Tensor: shape=(), dtype=int32, numpy=1>}\n",
            "{'a': (<tf.Tensor: shape=(), dtype=int32, numpy=2>, <tf.Tensor: shape=(), dtype=int32, numpy=5>), 'b': <tf.Tensor: shape=(), dtype=int32, numpy=2>}\n",
            "{'a': (<tf.Tensor: shape=(), dtype=int32, numpy=3>, <tf.Tensor: shape=(), dtype=int32, numpy=6>), 'b': <tf.Tensor: shape=(), dtype=int32, numpy=3>}\n"
          ]
        }
      ]
    },
    {
      "cell_type": "code",
      "source": [
        "batch_dataset=repeat_dataset.batch(4)"
      ],
      "metadata": {
        "id": "CF-mP0iQh8uK"
      },
      "execution_count": null,
      "outputs": []
    },
    {
      "cell_type": "code",
      "source": [
        "for i in batch_dataset:\n",
        "  print(i)"
      ],
      "metadata": {
        "colab": {
          "base_uri": "https://localhost:8080/"
        },
        "id": "K-qdR9vIiLLX",
        "outputId": "ef0dc43a-5f49-4748-af64-4887a31c7501"
      },
      "execution_count": null,
      "outputs": [
        {
          "output_type": "stream",
          "name": "stdout",
          "text": [
            "{'a': (<tf.Tensor: shape=(4,), dtype=int32, numpy=array([1, 2, 3, 1], dtype=int32)>, <tf.Tensor: shape=(4,), dtype=int32, numpy=array([4, 5, 6, 4], dtype=int32)>), 'b': <tf.Tensor: shape=(4,), dtype=int32, numpy=array([1, 2, 3, 1], dtype=int32)>}\n",
            "{'a': (<tf.Tensor: shape=(4,), dtype=int32, numpy=array([2, 3, 1, 2], dtype=int32)>, <tf.Tensor: shape=(4,), dtype=int32, numpy=array([5, 6, 4, 5], dtype=int32)>), 'b': <tf.Tensor: shape=(4,), dtype=int32, numpy=array([2, 3, 1, 2], dtype=int32)>}\n",
            "{'a': (<tf.Tensor: shape=(1,), dtype=int32, numpy=array([3], dtype=int32)>, <tf.Tensor: shape=(1,), dtype=int32, numpy=array([6], dtype=int32)>), 'b': <tf.Tensor: shape=(1,), dtype=int32, numpy=array([3], dtype=int32)>}\n"
          ]
        }
      ]
    },
    {
      "cell_type": "code",
      "source": [
        "drop_batch_dataset=repeat_dataset.batch(4,drop_remainder=True)"
      ],
      "metadata": {
        "id": "WN_E9By7iQKh"
      },
      "execution_count": null,
      "outputs": []
    },
    {
      "cell_type": "code",
      "source": [
        "for i in drop_batch_dataset:\n",
        "  print(i)"
      ],
      "metadata": {
        "colab": {
          "base_uri": "https://localhost:8080/"
        },
        "id": "XON6sTbelMN6",
        "outputId": "b0cda916-ec79-4eea-fde7-6cc8b7519038"
      },
      "execution_count": null,
      "outputs": [
        {
          "output_type": "stream",
          "name": "stdout",
          "text": [
            "{'a': (<tf.Tensor: shape=(4,), dtype=int32, numpy=array([1, 2, 3, 1], dtype=int32)>, <tf.Tensor: shape=(4,), dtype=int32, numpy=array([4, 5, 6, 4], dtype=int32)>), 'b': <tf.Tensor: shape=(4,), dtype=int32, numpy=array([1, 2, 3, 1], dtype=int32)>}\n",
            "{'a': (<tf.Tensor: shape=(4,), dtype=int32, numpy=array([2, 3, 1, 2], dtype=int32)>, <tf.Tensor: shape=(4,), dtype=int32, numpy=array([5, 6, 4, 5], dtype=int32)>), 'b': <tf.Tensor: shape=(4,), dtype=int32, numpy=array([2, 3, 1, 2], dtype=int32)>}\n"
          ]
        }
      ]
    },
    {
      "cell_type": "code",
      "source": [
        "apply_drop_batch_dataset=drop_batch_dataset.map(lambda x:x[\"a\"])"
      ],
      "metadata": {
        "id": "UTFZliR8lSOd"
      },
      "execution_count": null,
      "outputs": []
    },
    {
      "cell_type": "code",
      "source": [
        "for i in apply_drop_batch_dataset:\n",
        "  print(i)"
      ],
      "metadata": {
        "colab": {
          "base_uri": "https://localhost:8080/"
        },
        "id": "BlUbx30smaeQ",
        "outputId": "eac5ee06-d83f-4721-deda-0463db7bc877"
      },
      "execution_count": null,
      "outputs": [
        {
          "output_type": "stream",
          "name": "stdout",
          "text": [
            "(<tf.Tensor: shape=(4,), dtype=int32, numpy=array([1, 2, 3, 1], dtype=int32)>, <tf.Tensor: shape=(4,), dtype=int32, numpy=array([4, 5, 6, 4], dtype=int32)>)\n",
            "(<tf.Tensor: shape=(4,), dtype=int32, numpy=array([2, 3, 1, 2], dtype=int32)>, <tf.Tensor: shape=(4,), dtype=int32, numpy=array([5, 6, 4, 5], dtype=int32)>)\n"
          ]
        }
      ]
    },
    {
      "cell_type": "markdown",
      "source": [
        "## 데이터 셔플링\n",
        "\n",
        "경사하강법은 독립적이고 동일한 분포일 때 최고의 성능을 발휘함\n",
        "\n",
        "따라서 아래와 같이 데이터를 섞는 것은 중요하다"
      ],
      "metadata": {
        "id": "UZrossYumsTO"
      }
    },
    {
      "cell_type": "code",
      "source": [
        "dataset=tf.data.Dataset.range(10).repeat(2)"
      ],
      "metadata": {
        "id": "AJdVuS94wH3g"
      },
      "execution_count": null,
      "outputs": []
    },
    {
      "cell_type": "code",
      "source": [
        "for i in dataset:\n",
        "  print(i)"
      ],
      "metadata": {
        "colab": {
          "base_uri": "https://localhost:8080/"
        },
        "id": "Cwtf4lLPxEY5",
        "outputId": "316927c5-99e7-45b2-d67c-a485e04d30c1"
      },
      "execution_count": null,
      "outputs": [
        {
          "output_type": "stream",
          "name": "stdout",
          "text": [
            "tf.Tensor(0, shape=(), dtype=int64)\n",
            "tf.Tensor(1, shape=(), dtype=int64)\n",
            "tf.Tensor(2, shape=(), dtype=int64)\n",
            "tf.Tensor(3, shape=(), dtype=int64)\n",
            "tf.Tensor(4, shape=(), dtype=int64)\n",
            "tf.Tensor(5, shape=(), dtype=int64)\n",
            "tf.Tensor(6, shape=(), dtype=int64)\n",
            "tf.Tensor(7, shape=(), dtype=int64)\n",
            "tf.Tensor(8, shape=(), dtype=int64)\n",
            "tf.Tensor(9, shape=(), dtype=int64)\n",
            "tf.Tensor(0, shape=(), dtype=int64)\n",
            "tf.Tensor(1, shape=(), dtype=int64)\n",
            "tf.Tensor(2, shape=(), dtype=int64)\n",
            "tf.Tensor(3, shape=(), dtype=int64)\n",
            "tf.Tensor(4, shape=(), dtype=int64)\n",
            "tf.Tensor(5, shape=(), dtype=int64)\n",
            "tf.Tensor(6, shape=(), dtype=int64)\n",
            "tf.Tensor(7, shape=(), dtype=int64)\n",
            "tf.Tensor(8, shape=(), dtype=int64)\n",
            "tf.Tensor(9, shape=(), dtype=int64)\n"
          ]
        }
      ]
    },
    {
      "cell_type": "code",
      "source": [
        "shuffle_dataset=dataset.shuffle(buffer_size=4,seed=10).batch(7)"
      ],
      "metadata": {
        "id": "OffwpOpdxGwK"
      },
      "execution_count": null,
      "outputs": []
    },
    {
      "cell_type": "code",
      "source": [
        "for i in shuffle_dataset:\n",
        "  print(i)"
      ],
      "metadata": {
        "colab": {
          "base_uri": "https://localhost:8080/"
        },
        "id": "-RQGWwMxxWV3",
        "outputId": "c2ab4f74-792d-4dc2-8d80-696a19f4f74e"
      },
      "execution_count": null,
      "outputs": [
        {
          "output_type": "stream",
          "name": "stdout",
          "text": [
            "tf.Tensor([2 3 5 6 7 4 0], shape=(7,), dtype=int64)\n",
            "tf.Tensor([1 1 2 0 3 5 9], shape=(7,), dtype=int64)\n",
            "tf.Tensor([4 7 8 9 6 8], shape=(6,), dtype=int64)\n"
          ]
        }
      ]
    },
    {
      "cell_type": "markdown",
      "source": [
        "### 샘플링의 한계\n",
        "\n",
        "1. 완전한 샘플링을 위해선 버퍼의 크기가 데이터 셋의 크기와 같아야한다\n",
        "2. 메모리 용량보다 큰 데이터 셋은 버퍼가 필연적으로 데이터 셋의 크기보다 작아짐\n",
        "\n",
        "    -> 따라서 원본 데이터 셋 자체를 섞어야함.\n",
        "3. 샘플을 더 섞기 위해서 원본 데이터를 여러 파일로 나눈 다음, 훈련하는 동안 랜덤으로 읽는 것.\n",
        "4. 위의 방법으로도 동일한 파일에 았는 샘플은 함께 처리되기 때문에, 파일 여러개를 랜덤 선택 후 파일에서 동시에 읽은 레코드를 돌아가면서 반환"
      ],
      "metadata": {
        "id": "sj8nDii_xeAh"
      }
    },
    {
      "cell_type": "markdown",
      "source": [
        "### step 1. 여러 파일에서 한줄씩 번갈아 읽기"
      ],
      "metadata": {
        "id": "Ffqai6Gj0OUM"
      }
    },
    {
      "cell_type": "code",
      "source": [
        "file_paths=['/content/train.csv' for i in range(3)]"
      ],
      "metadata": {
        "id": "p4WVyZe20XLY"
      },
      "execution_count": null,
      "outputs": []
    },
    {
      "cell_type": "code",
      "source": [
        "file_paths"
      ],
      "metadata": {
        "colab": {
          "base_uri": "https://localhost:8080/"
        },
        "id": "DsIxNtvl2I5w",
        "outputId": "80ea1723-b7a6-44f8-d90d-1efd71cf48ba"
      },
      "execution_count": null,
      "outputs": [
        {
          "output_type": "execute_result",
          "data": {
            "text/plain": [
              "['/content/train.csv', '/content/train.csv', '/content/train.csv']"
            ]
          },
          "metadata": {},
          "execution_count": 36
        }
      ]
    },
    {
      "cell_type": "code",
      "source": [
        "shuffle_paths=tf.data.Dataset.list_files(file_paths,seed=10)"
      ],
      "metadata": {
        "id": "4PFV8WtH2J-j"
      },
      "execution_count": null,
      "outputs": []
    },
    {
      "cell_type": "markdown",
      "source": [
        "위는 파일경로를 섞는 과정"
      ],
      "metadata": {
        "id": "xw-M4ZeP3DcZ"
      }
    },
    {
      "cell_type": "code",
      "source": [
        "dataset=shuffle_paths.interleave(\n",
        "    lambda x:tf.data.TextLineDataset(x).skip(1) #맨 윗줄은 columns 이름이므로\n",
        "    ,cycle_length=2 # 한번에 두개의 파일을 한줄씩 번갈아가면서 읽음\n",
        "    ,num_parallel_calls=tf.data.AUTOTUNE # 병렬화 개수 -> 자동화\n",
        ")"
      ],
      "metadata": {
        "id": "jeHn6i3W2VEX"
      },
      "execution_count": null,
      "outputs": []
    },
    {
      "cell_type": "markdown",
      "source": [
        "* 과정 요약\n",
        "\n",
        "1. 파일 경로 데이터 셋\n",
        "2. interleave 메소드 내의 lambda 함수로 인해 병력처리된 데이터셋들\n",
        "3. 위의 데이터셋을 돌아가면서 한줄씩 적재한 interleave dataset"
      ],
      "metadata": {
        "id": "5bnnY0WD2oFj"
      }
    },
    {
      "cell_type": "code",
      "source": [],
      "metadata": {
        "id": "E8-LgyRL8ddI"
      },
      "execution_count": null,
      "outputs": []
    }
  ]
}