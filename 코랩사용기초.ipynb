{
  "nbformat": 4,
  "nbformat_minor": 0,
  "metadata": {
    "colab": {
      "provenance": [],
      "toc_visible": true,
      "gpuType": "T4",
      "authorship_tag": "ABX9TyOCxYSFdVcSf1DdVAlmY0cj",
      "include_colab_link": true
    },
    "kernelspec": {
      "name": "python3",
      "display_name": "Python 3"
    },
    "language_info": {
      "name": "python"
    },
    "accelerator": "GPU"
  },
  "cells": [
    {
      "cell_type": "markdown",
      "metadata": {
        "id": "view-in-github",
        "colab_type": "text"
      },
      "source": [
        "<a href=\"https://colab.research.google.com/github/Apple03244/Colaboratory/blob/main/%EC%BD%94%EB%9E%A9%EC%82%AC%EC%9A%A9%EA%B8%B0%EC%B4%88.ipynb\" target=\"_parent\"><img src=\"https://colab.research.google.com/assets/colab-badge.svg\" alt=\"Open In Colab\"/></a>"
      ]
    },
    {
      "cell_type": "code",
      "execution_count": 1,
      "metadata": {
        "id": "ZZWIIHgS7hLm"
      },
      "outputs": [],
      "source": [
        "import pandas as pd"
      ]
    },
    {
      "cell_type": "markdown",
      "source": [
        "| 단축키                        | 설명                                               |\n",
        "|------------------------------|----------------------------------------------------|\n",
        "| `Shift + Enter`              | 현재 셀 실행하고 다음 셀로 이동                   |\n",
        "| `Ctrl + Enter`               | 현재 셀 실행하고 현재 위치에 남김                |\n",
        "| `Ctrl + M A` (또는 `A`)     | 위에 셀 추가                                      |\n",
        "| `Ctrl + M B` (또는 `B`)     | 아래에 셀 추가                                    |\n",
        "| `Ctrl + M D` (또는 `D`, `D`) | 현재 셀 삭제                                      |\n",
        "| `Ctrl + M M` (또는 `Y`)     | 코드 셀로 변경                                    |\n",
        "| `Ctrl + M Y` (또는 `M`)     | 마크다운 셀로 변경                               |\n",
        "| `Ctrl + X`                   | 현재 셀 잘라내기                                  |\n",
        "| `Ctrl + C`                   | 현재 셀 복사                                      |\n",
        "| `Ctrl + V`                   | 클립보드에 있는 셀 붙여넣기                      |\n",
        "| `Ctrl + M J` (또는 `↓`)     | 아래 셀로 이동                                    |\n",
        "| `Ctrl + M K` (또는 `↑`)     | 위 셀로 이동                                      |\n",
        "| `Ctrl + M I` (또는 `I`, `I`) | 실행 중인 셀 중지                                |\n",
        "| `Ctrl + M Shift + Enter`     | 현재 셀 실행하고 다음 셀로 이동                   |\n",
        "| `Ctrl + M F` (또는 `F9`)     | 모든 셀 재실행                                    |\n",
        "| `Ctrl + M O`                 | 셀 접기/펼치기                                    |\n",
        "| `Tab`                        | 코드 자동완성 제안 보기                           |\n",
        "| `Shift + Tab`                | 함수 또는 메소드의 도움말 표시                   |\n",
        "| `Ctrl + M P`                 | 명령 팔레트 열기                                  |\n",
        "| `Ctrl + M L`                 | 라인 번호 표시/숨김                              |\n",
        "\n"
      ],
      "metadata": {
        "id": "UyexQ-FX8tyB"
      }
    },
    {
      "cell_type": "code",
      "source": [],
      "metadata": {
        "id": "dQQq_xTFBD1d"
      },
      "execution_count": null,
      "outputs": []
    }
  ]
}