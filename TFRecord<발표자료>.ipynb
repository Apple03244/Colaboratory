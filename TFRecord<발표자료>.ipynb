{
  "nbformat": 4,
  "nbformat_minor": 0,
  "metadata": {
    "colab": {
      "provenance": [],
      "authorship_tag": "ABX9TyNERUu3GCABg60KPGoc07bD",
      "include_colab_link": true
    },
    "kernelspec": {
      "name": "python3",
      "display_name": "Python 3"
    },
    "language_info": {
      "name": "python"
    },
    "accelerator": "TPU"
  },
  "cells": [
    {
      "cell_type": "markdown",
      "metadata": {
        "id": "view-in-github",
        "colab_type": "text"
      },
      "source": [
        "<a href=\"https://colab.research.google.com/github/Apple03244/Colaboratory/blob/main/TFRecord%3C%EB%B0%9C%ED%91%9C%EC%9E%90%EB%A3%8C%3E.ipynb\" target=\"_parent\"><img src=\"https://colab.research.google.com/assets/colab-badge.svg\" alt=\"Open In Colab\"/></a>"
      ]
    },
    {
      "cell_type": "markdown",
      "source": [
        "## 0. Python에서 데이터를 읽는 방법"
      ],
      "metadata": {
        "id": "i_m98pNKO1M8"
      }
    },
    {
      "cell_type": "markdown",
      "source": [
        "1. os.listdir(path) 을 읽어옴\n",
        "2. 여기서 우리가 필요한 파일을 통째로 읽어옴\n",
        "3. pandas 생각해보면 파일용량이 크면 굉장히 오래걸림\n",
        "4. industty level에서는 하루에 쏟아지는 데이터양이 굉장히 큼 + 하나의 기기나 개인에서 오지 않음\n",
        "\n",
        "5. 훈련데이터의 구별의 문제도 있고 매일 읽어올 수도 없어.+ 파일을 나눠도 문제가 생김"
      ],
      "metadata": {
        "id": "JUF8nRW4O6mb"
      }
    },
    {
      "cell_type": "markdown",
      "source": [
        "## 1. 간단한 예시를 보자"
      ],
      "metadata": {
        "id": "uTjUUnIWv_wY"
      }
    },
    {
      "cell_type": "code",
      "source": [
        "import tensorflow as tf\n",
        "import pandas as pd"
      ],
      "metadata": {
        "id": "5NA9zlggzl-x"
      },
      "execution_count": 1,
      "outputs": []
    },
    {
      "cell_type": "code",
      "source": [
        "data={\"col1\":[1,2,3],\"col2\":[\"a\",\"b\",\"c\"],\"col3\":[True,False,True]}"
      ],
      "metadata": {
        "id": "exN9yolYzp48"
      },
      "execution_count": 2,
      "outputs": []
    },
    {
      "cell_type": "code",
      "source": [
        "# 이제껏 우리가 데이터를 확인했던 방법\n",
        "pd.read_csv('/content/train.csv')"
      ],
      "metadata": {
        "colab": {
          "base_uri": "https://localhost:8080/",
          "height": 575
        },
        "id": "e8SQRk9oz8lt",
        "outputId": "24ea157d-cc3b-4a18-cb1e-04e4f4805102"
      },
      "execution_count": 3,
      "outputs": [
        {
          "output_type": "execute_result",
          "data": {
            "text/plain": [
              "            sessionID       userID  TARGET           browser         OS  \\\n",
              "0      SESSION_000000  USER_000000    17.0            Chrome  Macintosh   \n",
              "1      SESSION_000001  USER_000001     3.0            Chrome    Windows   \n",
              "2      SESSION_000002  USER_000002     1.0  Samsung Internet    Android   \n",
              "3      SESSION_000003  USER_000003     1.0            Chrome  Macintosh   \n",
              "4      SESSION_000004  USER_000004     1.0            Chrome        iOS   \n",
              "...               ...          ...     ...               ...        ...   \n",
              "37856  SESSION_037856  USER_032130     2.0            Safari        iOS   \n",
              "37857  SESSION_037857  USER_032090     1.0            Chrome    Windows   \n",
              "37858  SESSION_037858  USER_032131     1.0            Chrome        iOS   \n",
              "37859  SESSION_037859  USER_032132     1.0              Edge    Windows   \n",
              "37860  SESSION_037860  USER_032133     1.0            Chrome    Windows   \n",
              "\n",
              "        device  new  quality  duration  bounced  transaction  \\\n",
              "0      desktop    0     45.0     839.0        0          0.0   \n",
              "1      desktop    1      1.0      39.0        0          0.0   \n",
              "2       mobile    1      1.0       0.0        1          0.0   \n",
              "3      desktop    1      1.0       0.0        1          0.0   \n",
              "4       mobile    0      1.0       0.0        1          0.0   \n",
              "...        ...  ...      ...       ...      ...          ...   \n",
              "37856   mobile    1      1.0      58.0        0          0.0   \n",
              "37857  desktop    0      1.0       0.0        1          0.0   \n",
              "37858   mobile    1      1.0       0.0        1          0.0   \n",
              "37859  desktop    1      1.0       0.0        1          0.0   \n",
              "37860  desktop    1      1.0       0.0        1          0.0   \n",
              "\n",
              "       transaction_revenue continent      subcontinent        country  \\\n",
              "0                      0.0  Americas  Northern America  United States   \n",
              "1                      0.0    Europe    Western Europe        Germany   \n",
              "2                      0.0      Asia    Southeast Asia       Malaysia   \n",
              "3                      0.0  Americas  Northern America  United States   \n",
              "4                      0.0  Americas  Northern America  United States   \n",
              "...                    ...       ...               ...            ...   \n",
              "37856                  0.0  Americas  Northern America  United States   \n",
              "37857                  0.0    Europe    Western Europe        Germany   \n",
              "37858                  0.0  Americas     South America         Brazil   \n",
              "37859                  0.0  Americas  Northern America  United States   \n",
              "37860                  0.0    Europe       Southern Eu            NaN   \n",
              "\n",
              "          traffic_source traffic_medium    keyword        referral_path  \n",
              "0                 google        organic  Category8                  NaN  \n",
              "1                 google        organic  Category8                  NaN  \n",
              "2               (direct)         (none)        NaN                  NaN  \n",
              "3               Partners      affiliate        NaN                  NaN  \n",
              "4      groups.google.com       referral        NaN  Category6_Path_0000  \n",
              "...                  ...            ...        ...                  ...  \n",
              "37856             google        organic  Category8                  NaN  \n",
              "37857        youtube.com       referral        NaN  Category2_Path_0018  \n",
              "37858             google        organic  Category8                  NaN  \n",
              "37859           Partners      affiliate        NaN                  NaN  \n",
              "37860                NaN            NaN        NaN                  NaN  \n",
              "\n",
              "[37861 rows x 19 columns]"
            ],
            "text/html": [
              "\n",
              "  <div id=\"df-d090f777-76e1-44ef-9759-f29970b57c34\" class=\"colab-df-container\">\n",
              "    <div>\n",
              "<style scoped>\n",
              "    .dataframe tbody tr th:only-of-type {\n",
              "        vertical-align: middle;\n",
              "    }\n",
              "\n",
              "    .dataframe tbody tr th {\n",
              "        vertical-align: top;\n",
              "    }\n",
              "\n",
              "    .dataframe thead th {\n",
              "        text-align: right;\n",
              "    }\n",
              "</style>\n",
              "<table border=\"1\" class=\"dataframe\">\n",
              "  <thead>\n",
              "    <tr style=\"text-align: right;\">\n",
              "      <th></th>\n",
              "      <th>sessionID</th>\n",
              "      <th>userID</th>\n",
              "      <th>TARGET</th>\n",
              "      <th>browser</th>\n",
              "      <th>OS</th>\n",
              "      <th>device</th>\n",
              "      <th>new</th>\n",
              "      <th>quality</th>\n",
              "      <th>duration</th>\n",
              "      <th>bounced</th>\n",
              "      <th>transaction</th>\n",
              "      <th>transaction_revenue</th>\n",
              "      <th>continent</th>\n",
              "      <th>subcontinent</th>\n",
              "      <th>country</th>\n",
              "      <th>traffic_source</th>\n",
              "      <th>traffic_medium</th>\n",
              "      <th>keyword</th>\n",
              "      <th>referral_path</th>\n",
              "    </tr>\n",
              "  </thead>\n",
              "  <tbody>\n",
              "    <tr>\n",
              "      <th>0</th>\n",
              "      <td>SESSION_000000</td>\n",
              "      <td>USER_000000</td>\n",
              "      <td>17.0</td>\n",
              "      <td>Chrome</td>\n",
              "      <td>Macintosh</td>\n",
              "      <td>desktop</td>\n",
              "      <td>0</td>\n",
              "      <td>45.0</td>\n",
              "      <td>839.0</td>\n",
              "      <td>0</td>\n",
              "      <td>0.0</td>\n",
              "      <td>0.0</td>\n",
              "      <td>Americas</td>\n",
              "      <td>Northern America</td>\n",
              "      <td>United States</td>\n",
              "      <td>google</td>\n",
              "      <td>organic</td>\n",
              "      <td>Category8</td>\n",
              "      <td>NaN</td>\n",
              "    </tr>\n",
              "    <tr>\n",
              "      <th>1</th>\n",
              "      <td>SESSION_000001</td>\n",
              "      <td>USER_000001</td>\n",
              "      <td>3.0</td>\n",
              "      <td>Chrome</td>\n",
              "      <td>Windows</td>\n",
              "      <td>desktop</td>\n",
              "      <td>1</td>\n",
              "      <td>1.0</td>\n",
              "      <td>39.0</td>\n",
              "      <td>0</td>\n",
              "      <td>0.0</td>\n",
              "      <td>0.0</td>\n",
              "      <td>Europe</td>\n",
              "      <td>Western Europe</td>\n",
              "      <td>Germany</td>\n",
              "      <td>google</td>\n",
              "      <td>organic</td>\n",
              "      <td>Category8</td>\n",
              "      <td>NaN</td>\n",
              "    </tr>\n",
              "    <tr>\n",
              "      <th>2</th>\n",
              "      <td>SESSION_000002</td>\n",
              "      <td>USER_000002</td>\n",
              "      <td>1.0</td>\n",
              "      <td>Samsung Internet</td>\n",
              "      <td>Android</td>\n",
              "      <td>mobile</td>\n",
              "      <td>1</td>\n",
              "      <td>1.0</td>\n",
              "      <td>0.0</td>\n",
              "      <td>1</td>\n",
              "      <td>0.0</td>\n",
              "      <td>0.0</td>\n",
              "      <td>Asia</td>\n",
              "      <td>Southeast Asia</td>\n",
              "      <td>Malaysia</td>\n",
              "      <td>(direct)</td>\n",
              "      <td>(none)</td>\n",
              "      <td>NaN</td>\n",
              "      <td>NaN</td>\n",
              "    </tr>\n",
              "    <tr>\n",
              "      <th>3</th>\n",
              "      <td>SESSION_000003</td>\n",
              "      <td>USER_000003</td>\n",
              "      <td>1.0</td>\n",
              "      <td>Chrome</td>\n",
              "      <td>Macintosh</td>\n",
              "      <td>desktop</td>\n",
              "      <td>1</td>\n",
              "      <td>1.0</td>\n",
              "      <td>0.0</td>\n",
              "      <td>1</td>\n",
              "      <td>0.0</td>\n",
              "      <td>0.0</td>\n",
              "      <td>Americas</td>\n",
              "      <td>Northern America</td>\n",
              "      <td>United States</td>\n",
              "      <td>Partners</td>\n",
              "      <td>affiliate</td>\n",
              "      <td>NaN</td>\n",
              "      <td>NaN</td>\n",
              "    </tr>\n",
              "    <tr>\n",
              "      <th>4</th>\n",
              "      <td>SESSION_000004</td>\n",
              "      <td>USER_000004</td>\n",
              "      <td>1.0</td>\n",
              "      <td>Chrome</td>\n",
              "      <td>iOS</td>\n",
              "      <td>mobile</td>\n",
              "      <td>0</td>\n",
              "      <td>1.0</td>\n",
              "      <td>0.0</td>\n",
              "      <td>1</td>\n",
              "      <td>0.0</td>\n",
              "      <td>0.0</td>\n",
              "      <td>Americas</td>\n",
              "      <td>Northern America</td>\n",
              "      <td>United States</td>\n",
              "      <td>groups.google.com</td>\n",
              "      <td>referral</td>\n",
              "      <td>NaN</td>\n",
              "      <td>Category6_Path_0000</td>\n",
              "    </tr>\n",
              "    <tr>\n",
              "      <th>...</th>\n",
              "      <td>...</td>\n",
              "      <td>...</td>\n",
              "      <td>...</td>\n",
              "      <td>...</td>\n",
              "      <td>...</td>\n",
              "      <td>...</td>\n",
              "      <td>...</td>\n",
              "      <td>...</td>\n",
              "      <td>...</td>\n",
              "      <td>...</td>\n",
              "      <td>...</td>\n",
              "      <td>...</td>\n",
              "      <td>...</td>\n",
              "      <td>...</td>\n",
              "      <td>...</td>\n",
              "      <td>...</td>\n",
              "      <td>...</td>\n",
              "      <td>...</td>\n",
              "      <td>...</td>\n",
              "    </tr>\n",
              "    <tr>\n",
              "      <th>37856</th>\n",
              "      <td>SESSION_037856</td>\n",
              "      <td>USER_032130</td>\n",
              "      <td>2.0</td>\n",
              "      <td>Safari</td>\n",
              "      <td>iOS</td>\n",
              "      <td>mobile</td>\n",
              "      <td>1</td>\n",
              "      <td>1.0</td>\n",
              "      <td>58.0</td>\n",
              "      <td>0</td>\n",
              "      <td>0.0</td>\n",
              "      <td>0.0</td>\n",
              "      <td>Americas</td>\n",
              "      <td>Northern America</td>\n",
              "      <td>United States</td>\n",
              "      <td>google</td>\n",
              "      <td>organic</td>\n",
              "      <td>Category8</td>\n",
              "      <td>NaN</td>\n",
              "    </tr>\n",
              "    <tr>\n",
              "      <th>37857</th>\n",
              "      <td>SESSION_037857</td>\n",
              "      <td>USER_032090</td>\n",
              "      <td>1.0</td>\n",
              "      <td>Chrome</td>\n",
              "      <td>Windows</td>\n",
              "      <td>desktop</td>\n",
              "      <td>0</td>\n",
              "      <td>1.0</td>\n",
              "      <td>0.0</td>\n",
              "      <td>1</td>\n",
              "      <td>0.0</td>\n",
              "      <td>0.0</td>\n",
              "      <td>Europe</td>\n",
              "      <td>Western Europe</td>\n",
              "      <td>Germany</td>\n",
              "      <td>youtube.com</td>\n",
              "      <td>referral</td>\n",
              "      <td>NaN</td>\n",
              "      <td>Category2_Path_0018</td>\n",
              "    </tr>\n",
              "    <tr>\n",
              "      <th>37858</th>\n",
              "      <td>SESSION_037858</td>\n",
              "      <td>USER_032131</td>\n",
              "      <td>1.0</td>\n",
              "      <td>Chrome</td>\n",
              "      <td>iOS</td>\n",
              "      <td>mobile</td>\n",
              "      <td>1</td>\n",
              "      <td>1.0</td>\n",
              "      <td>0.0</td>\n",
              "      <td>1</td>\n",
              "      <td>0.0</td>\n",
              "      <td>0.0</td>\n",
              "      <td>Americas</td>\n",
              "      <td>South America</td>\n",
              "      <td>Brazil</td>\n",
              "      <td>google</td>\n",
              "      <td>organic</td>\n",
              "      <td>Category8</td>\n",
              "      <td>NaN</td>\n",
              "    </tr>\n",
              "    <tr>\n",
              "      <th>37859</th>\n",
              "      <td>SESSION_037859</td>\n",
              "      <td>USER_032132</td>\n",
              "      <td>1.0</td>\n",
              "      <td>Edge</td>\n",
              "      <td>Windows</td>\n",
              "      <td>desktop</td>\n",
              "      <td>1</td>\n",
              "      <td>1.0</td>\n",
              "      <td>0.0</td>\n",
              "      <td>1</td>\n",
              "      <td>0.0</td>\n",
              "      <td>0.0</td>\n",
              "      <td>Americas</td>\n",
              "      <td>Northern America</td>\n",
              "      <td>United States</td>\n",
              "      <td>Partners</td>\n",
              "      <td>affiliate</td>\n",
              "      <td>NaN</td>\n",
              "      <td>NaN</td>\n",
              "    </tr>\n",
              "    <tr>\n",
              "      <th>37860</th>\n",
              "      <td>SESSION_037860</td>\n",
              "      <td>USER_032133</td>\n",
              "      <td>1.0</td>\n",
              "      <td>Chrome</td>\n",
              "      <td>Windows</td>\n",
              "      <td>desktop</td>\n",
              "      <td>1</td>\n",
              "      <td>1.0</td>\n",
              "      <td>0.0</td>\n",
              "      <td>1</td>\n",
              "      <td>0.0</td>\n",
              "      <td>0.0</td>\n",
              "      <td>Europe</td>\n",
              "      <td>Southern Eu</td>\n",
              "      <td>NaN</td>\n",
              "      <td>NaN</td>\n",
              "      <td>NaN</td>\n",
              "      <td>NaN</td>\n",
              "      <td>NaN</td>\n",
              "    </tr>\n",
              "  </tbody>\n",
              "</table>\n",
              "<p>37861 rows × 19 columns</p>\n",
              "</div>\n",
              "    <div class=\"colab-df-buttons\">\n",
              "\n",
              "  <div class=\"colab-df-container\">\n",
              "    <button class=\"colab-df-convert\" onclick=\"convertToInteractive('df-d090f777-76e1-44ef-9759-f29970b57c34')\"\n",
              "            title=\"Convert this dataframe to an interactive table.\"\n",
              "            style=\"display:none;\">\n",
              "\n",
              "  <svg xmlns=\"http://www.w3.org/2000/svg\" height=\"24px\" viewBox=\"0 -960 960 960\">\n",
              "    <path d=\"M120-120v-720h720v720H120Zm60-500h600v-160H180v160Zm220 220h160v-160H400v160Zm0 220h160v-160H400v160ZM180-400h160v-160H180v160Zm440 0h160v-160H620v160ZM180-180h160v-160H180v160Zm440 0h160v-160H620v160Z\"/>\n",
              "  </svg>\n",
              "    </button>\n",
              "\n",
              "  <style>\n",
              "    .colab-df-container {\n",
              "      display:flex;\n",
              "      gap: 12px;\n",
              "    }\n",
              "\n",
              "    .colab-df-convert {\n",
              "      background-color: #E8F0FE;\n",
              "      border: none;\n",
              "      border-radius: 50%;\n",
              "      cursor: pointer;\n",
              "      display: none;\n",
              "      fill: #1967D2;\n",
              "      height: 32px;\n",
              "      padding: 0 0 0 0;\n",
              "      width: 32px;\n",
              "    }\n",
              "\n",
              "    .colab-df-convert:hover {\n",
              "      background-color: #E2EBFA;\n",
              "      box-shadow: 0px 1px 2px rgba(60, 64, 67, 0.3), 0px 1px 3px 1px rgba(60, 64, 67, 0.15);\n",
              "      fill: #174EA6;\n",
              "    }\n",
              "\n",
              "    .colab-df-buttons div {\n",
              "      margin-bottom: 4px;\n",
              "    }\n",
              "\n",
              "    [theme=dark] .colab-df-convert {\n",
              "      background-color: #3B4455;\n",
              "      fill: #D2E3FC;\n",
              "    }\n",
              "\n",
              "    [theme=dark] .colab-df-convert:hover {\n",
              "      background-color: #434B5C;\n",
              "      box-shadow: 0px 1px 3px 1px rgba(0, 0, 0, 0.15);\n",
              "      filter: drop-shadow(0px 1px 2px rgba(0, 0, 0, 0.3));\n",
              "      fill: #FFFFFF;\n",
              "    }\n",
              "  </style>\n",
              "\n",
              "    <script>\n",
              "      const buttonEl =\n",
              "        document.querySelector('#df-d090f777-76e1-44ef-9759-f29970b57c34 button.colab-df-convert');\n",
              "      buttonEl.style.display =\n",
              "        google.colab.kernel.accessAllowed ? 'block' : 'none';\n",
              "\n",
              "      async function convertToInteractive(key) {\n",
              "        const element = document.querySelector('#df-d090f777-76e1-44ef-9759-f29970b57c34');\n",
              "        const dataTable =\n",
              "          await google.colab.kernel.invokeFunction('convertToInteractive',\n",
              "                                                    [key], {});\n",
              "        if (!dataTable) return;\n",
              "\n",
              "        const docLinkHtml = 'Like what you see? Visit the ' +\n",
              "          '<a target=\"_blank\" href=https://colab.research.google.com/notebooks/data_table.ipynb>data table notebook</a>'\n",
              "          + ' to learn more about interactive tables.';\n",
              "        element.innerHTML = '';\n",
              "        dataTable['output_type'] = 'display_data';\n",
              "        await google.colab.output.renderOutput(dataTable, element);\n",
              "        const docLink = document.createElement('div');\n",
              "        docLink.innerHTML = docLinkHtml;\n",
              "        element.appendChild(docLink);\n",
              "      }\n",
              "    </script>\n",
              "  </div>\n",
              "\n",
              "\n",
              "<div id=\"df-0fb3caa7-e1bb-4f7b-bc91-9e2757b623c3\">\n",
              "  <button class=\"colab-df-quickchart\" onclick=\"quickchart('df-0fb3caa7-e1bb-4f7b-bc91-9e2757b623c3')\"\n",
              "            title=\"Suggest charts\"\n",
              "            style=\"display:none;\">\n",
              "\n",
              "<svg xmlns=\"http://www.w3.org/2000/svg\" height=\"24px\"viewBox=\"0 0 24 24\"\n",
              "     width=\"24px\">\n",
              "    <g>\n",
              "        <path d=\"M19 3H5c-1.1 0-2 .9-2 2v14c0 1.1.9 2 2 2h14c1.1 0 2-.9 2-2V5c0-1.1-.9-2-2-2zM9 17H7v-7h2v7zm4 0h-2V7h2v10zm4 0h-2v-4h2v4z\"/>\n",
              "    </g>\n",
              "</svg>\n",
              "  </button>\n",
              "\n",
              "<style>\n",
              "  .colab-df-quickchart {\n",
              "      --bg-color: #E8F0FE;\n",
              "      --fill-color: #1967D2;\n",
              "      --hover-bg-color: #E2EBFA;\n",
              "      --hover-fill-color: #174EA6;\n",
              "      --disabled-fill-color: #AAA;\n",
              "      --disabled-bg-color: #DDD;\n",
              "  }\n",
              "\n",
              "  [theme=dark] .colab-df-quickchart {\n",
              "      --bg-color: #3B4455;\n",
              "      --fill-color: #D2E3FC;\n",
              "      --hover-bg-color: #434B5C;\n",
              "      --hover-fill-color: #FFFFFF;\n",
              "      --disabled-bg-color: #3B4455;\n",
              "      --disabled-fill-color: #666;\n",
              "  }\n",
              "\n",
              "  .colab-df-quickchart {\n",
              "    background-color: var(--bg-color);\n",
              "    border: none;\n",
              "    border-radius: 50%;\n",
              "    cursor: pointer;\n",
              "    display: none;\n",
              "    fill: var(--fill-color);\n",
              "    height: 32px;\n",
              "    padding: 0;\n",
              "    width: 32px;\n",
              "  }\n",
              "\n",
              "  .colab-df-quickchart:hover {\n",
              "    background-color: var(--hover-bg-color);\n",
              "    box-shadow: 0 1px 2px rgba(60, 64, 67, 0.3), 0 1px 3px 1px rgba(60, 64, 67, 0.15);\n",
              "    fill: var(--button-hover-fill-color);\n",
              "  }\n",
              "\n",
              "  .colab-df-quickchart-complete:disabled,\n",
              "  .colab-df-quickchart-complete:disabled:hover {\n",
              "    background-color: var(--disabled-bg-color);\n",
              "    fill: var(--disabled-fill-color);\n",
              "    box-shadow: none;\n",
              "  }\n",
              "\n",
              "  .colab-df-spinner {\n",
              "    border: 2px solid var(--fill-color);\n",
              "    border-color: transparent;\n",
              "    border-bottom-color: var(--fill-color);\n",
              "    animation:\n",
              "      spin 1s steps(1) infinite;\n",
              "  }\n",
              "\n",
              "  @keyframes spin {\n",
              "    0% {\n",
              "      border-color: transparent;\n",
              "      border-bottom-color: var(--fill-color);\n",
              "      border-left-color: var(--fill-color);\n",
              "    }\n",
              "    20% {\n",
              "      border-color: transparent;\n",
              "      border-left-color: var(--fill-color);\n",
              "      border-top-color: var(--fill-color);\n",
              "    }\n",
              "    30% {\n",
              "      border-color: transparent;\n",
              "      border-left-color: var(--fill-color);\n",
              "      border-top-color: var(--fill-color);\n",
              "      border-right-color: var(--fill-color);\n",
              "    }\n",
              "    40% {\n",
              "      border-color: transparent;\n",
              "      border-right-color: var(--fill-color);\n",
              "      border-top-color: var(--fill-color);\n",
              "    }\n",
              "    60% {\n",
              "      border-color: transparent;\n",
              "      border-right-color: var(--fill-color);\n",
              "    }\n",
              "    80% {\n",
              "      border-color: transparent;\n",
              "      border-right-color: var(--fill-color);\n",
              "      border-bottom-color: var(--fill-color);\n",
              "    }\n",
              "    90% {\n",
              "      border-color: transparent;\n",
              "      border-bottom-color: var(--fill-color);\n",
              "    }\n",
              "  }\n",
              "</style>\n",
              "\n",
              "  <script>\n",
              "    async function quickchart(key) {\n",
              "      const quickchartButtonEl =\n",
              "        document.querySelector('#' + key + ' button');\n",
              "      quickchartButtonEl.disabled = true;  // To prevent multiple clicks.\n",
              "      quickchartButtonEl.classList.add('colab-df-spinner');\n",
              "      try {\n",
              "        const charts = await google.colab.kernel.invokeFunction(\n",
              "            'suggestCharts', [key], {});\n",
              "      } catch (error) {\n",
              "        console.error('Error during call to suggestCharts:', error);\n",
              "      }\n",
              "      quickchartButtonEl.classList.remove('colab-df-spinner');\n",
              "      quickchartButtonEl.classList.add('colab-df-quickchart-complete');\n",
              "    }\n",
              "    (() => {\n",
              "      let quickchartButtonEl =\n",
              "        document.querySelector('#df-0fb3caa7-e1bb-4f7b-bc91-9e2757b623c3 button');\n",
              "      quickchartButtonEl.style.display =\n",
              "        google.colab.kernel.accessAllowed ? 'block' : 'none';\n",
              "    })();\n",
              "  </script>\n",
              "</div>\n",
              "\n",
              "    </div>\n",
              "  </div>\n"
            ],
            "application/vnd.google.colaboratory.intrinsic+json": {
              "type": "dataframe",
              "summary": "{\n  \"name\": \"pd\",\n  \"rows\": 37861,\n  \"fields\": [\n    {\n      \"column\": \"sessionID\",\n      \"properties\": {\n        \"dtype\": \"string\",\n        \"num_unique_values\": 37861,\n        \"samples\": [\n          \"SESSION_014655\",\n          \"SESSION_026359\",\n          \"SESSION_010742\"\n        ],\n        \"semantic_type\": \"\",\n        \"description\": \"\"\n      }\n    },\n    {\n      \"column\": \"userID\",\n      \"properties\": {\n        \"dtype\": \"string\",\n        \"num_unique_values\": 32134,\n        \"samples\": [\n          \"USER_004903\",\n          \"USER_012034\",\n          \"USER_006188\"\n        ],\n        \"semantic_type\": \"\",\n        \"description\": \"\"\n      }\n    },\n    {\n      \"column\": \"TARGET\",\n      \"properties\": {\n        \"dtype\": \"number\",\n        \"std\": 5.76786958625728,\n        \"min\": 1.0,\n        \"max\": 386.0,\n        \"num_unique_values\": 78,\n        \"samples\": [\n          27.0,\n          17.0,\n          22.0\n        ],\n        \"semantic_type\": \"\",\n        \"description\": \"\"\n      }\n    },\n    {\n      \"column\": \"browser\",\n      \"properties\": {\n        \"dtype\": \"category\",\n        \"num_unique_values\": 29,\n        \"samples\": [\n          \"DESKTOP\",\n          \"Nintendo Browser\",\n          \"Android Browser\"\n        ],\n        \"semantic_type\": \"\",\n        \"description\": \"\"\n      }\n    },\n    {\n      \"column\": \"OS\",\n      \"properties\": {\n        \"dtype\": \"category\",\n        \"num_unique_values\": 16,\n        \"samples\": [\n          \"Macintosh\",\n          \"Windows\",\n          \"Tizen\"\n        ],\n        \"semantic_type\": \"\",\n        \"description\": \"\"\n      }\n    },\n    {\n      \"column\": \"device\",\n      \"properties\": {\n        \"dtype\": \"category\",\n        \"num_unique_values\": 3,\n        \"samples\": [\n          \"desktop\",\n          \"mobile\",\n          \"tablet\"\n        ],\n        \"semantic_type\": \"\",\n        \"description\": \"\"\n      }\n    },\n    {\n      \"column\": \"new\",\n      \"properties\": {\n        \"dtype\": \"number\",\n        \"std\": 0,\n        \"min\": 0,\n        \"max\": 1,\n        \"num_unique_values\": 2,\n        \"samples\": [\n          1,\n          0\n        ],\n        \"semantic_type\": \"\",\n        \"description\": \"\"\n      }\n    },\n    {\n      \"column\": \"quality\",\n      \"properties\": {\n        \"dtype\": \"number\",\n        \"std\": 9.662797206257052,\n        \"min\": 1.0,\n        \"max\": 95.0,\n        \"num_unique_values\": 94,\n        \"samples\": [\n          28.0,\n          5.0\n        ],\n        \"semantic_type\": \"\",\n        \"description\": \"\"\n      }\n    },\n    {\n      \"column\": \"duration\",\n      \"properties\": {\n        \"dtype\": \"number\",\n        \"std\": 300.2353293865272,\n        \"min\": 0.0,\n        \"max\": 6870.0,\n        \"num_unique_values\": 1591,\n        \"samples\": [\n          2803.0,\n          398.0\n        ],\n        \"semantic_type\": \"\",\n        \"description\": \"\"\n      }\n    },\n    {\n      \"column\": \"bounced\",\n      \"properties\": {\n        \"dtype\": \"number\",\n        \"std\": 0,\n        \"min\": 0,\n        \"max\": 1,\n        \"num_unique_values\": 2,\n        \"samples\": [\n          1,\n          0\n        ],\n        \"semantic_type\": \"\",\n        \"description\": \"\"\n      }\n    },\n    {\n      \"column\": \"transaction\",\n      \"properties\": {\n        \"dtype\": \"number\",\n        \"std\": 0.08275967927351964,\n        \"min\": 0.0,\n        \"max\": 2.0,\n        \"num_unique_values\": 3,\n        \"samples\": [\n          0.0,\n          1.0\n        ],\n        \"semantic_type\": \"\",\n        \"description\": \"\"\n      }\n    },\n    {\n      \"column\": \"transaction_revenue\",\n      \"properties\": {\n        \"dtype\": \"number\",\n        \"std\": 20946029.37489182,\n        \"min\": 0.0,\n        \"max\": 2497824000.0,\n        \"num_unique_values\": 213,\n        \"samples\": [\n          443802720.0,\n          569911680.0\n        ],\n        \"semantic_type\": \"\",\n        \"description\": \"\"\n      }\n    },\n    {\n      \"column\": \"continent\",\n      \"properties\": {\n        \"dtype\": \"category\",\n        \"num_unique_values\": 6,\n        \"samples\": [\n          \"Americas\",\n          \"Europe\"\n        ],\n        \"semantic_type\": \"\",\n        \"description\": \"\"\n      }\n    },\n    {\n      \"column\": \"subcontinent\",\n      \"properties\": {\n        \"dtype\": \"category\",\n        \"num_unique_values\": 24,\n        \"samples\": [\n          \"Eastern Asia\",\n          \"Caribbean\"\n        ],\n        \"semantic_type\": \"\",\n        \"description\": \"\"\n      }\n    },\n    {\n      \"column\": \"country\",\n      \"properties\": {\n        \"dtype\": \"category\",\n        \"num_unique_values\": 167,\n        \"samples\": [\n          \"Cameroon\",\n          \"Venezuela\"\n        ],\n        \"semantic_type\": \"\",\n        \"description\": \"\"\n      }\n    },\n    {\n      \"column\": \"traffic_source\",\n      \"properties\": {\n        \"dtype\": \"category\",\n        \"num_unique_values\": 73,\n        \"samples\": [\n          \"youtube.com\",\n          \"myasucourses.asu.edu\"\n        ],\n        \"semantic_type\": \"\",\n        \"description\": \"\"\n      }\n    },\n    {\n      \"column\": \"traffic_medium\",\n      \"properties\": {\n        \"dtype\": \"category\",\n        \"num_unique_values\": 7,\n        \"samples\": [\n          \"organic\",\n          \"(none)\"\n        ],\n        \"semantic_type\": \"\",\n        \"description\": \"\"\n      }\n    },\n    {\n      \"column\": \"keyword\",\n      \"properties\": {\n        \"dtype\": \"category\",\n        \"num_unique_values\": 188,\n        \"samples\": [\n          \"Category1_Keyword_178\",\n          \"Category2_Keyword_157\"\n        ],\n        \"semantic_type\": \"\",\n        \"description\": \"\"\n      }\n    },\n    {\n      \"column\": \"referral_path\",\n      \"properties\": {\n        \"dtype\": \"category\",\n        \"num_unique_values\": 767,\n        \"samples\": [\n          \"Category11_Path_0666\",\n          \"Category5_Path_0323\"\n        ],\n        \"semantic_type\": \"\",\n        \"description\": \"\"\n      }\n    }\n  ]\n}"
            }
          },
          "metadata": {},
          "execution_count": 3
        }
      ]
    },
    {
      "cell_type": "markdown",
      "source": [
        "## 2. TFRecord의 데이터 형식\n",
        "\n",
        "|형식|변환가능한 형태|\n",
        "|--|--|\n",
        "|BytesList|string,byte|\n",
        "|FloatList|float,double|\n",
        "|Int64List|bool,enum,...|\n",
        "\n",
        "이와 같이 데이터를 바이너리 형태로 바꿈\n"
      ],
      "metadata": {
        "id": "ml4V3EKv6NRo"
      }
    },
    {
      "cell_type": "code",
      "source": [
        "# 위의 형태를 인식하기 위한 함수를 만들어보자\n",
        "def _bytes_feature(value):\n",
        "  if isinstance(value, type(tf.constant(0))):\n",
        "    value = value.numpy() # BytesList won't unpack a string from an EagerTensor.\n",
        "  return tf.train.Feature(bytes_list=tf.train.BytesList(value=[value]))\n",
        "\n",
        "def _float_feature(value):\n",
        "  return tf.train.Feature(float_list=tf.train.FloatList(value=[value]))\n",
        "\n",
        "def _int64_feature(value):\n",
        "  return tf.train.Feature(int64_list=tf.train.Int64List(value=[value]))"
      ],
      "metadata": {
        "id": "qRRXDASe7zY-"
      },
      "execution_count": 4,
      "outputs": []
    },
    {
      "cell_type": "code",
      "source": [
        "# test\n",
        "_bytes_feature(b\"a\")"
      ],
      "metadata": {
        "colab": {
          "base_uri": "https://localhost:8080/"
        },
        "id": "YGwnNR-P77QN",
        "outputId": "0d1ae231-cc6e-48de-f9f1-7840663f6320"
      },
      "execution_count": 5,
      "outputs": [
        {
          "output_type": "execute_result",
          "data": {
            "text/plain": [
              "bytes_list {\n",
              "  value: \"a\"\n",
              "}"
            ]
          },
          "metadata": {},
          "execution_count": 5
        }
      ]
    },
    {
      "cell_type": "markdown",
      "source": [
        "여기서 하나 알아야 할 것\n",
        "\n",
        "- 문자열 앞의 b : byte 형식\n",
        "- u : unicode 형식\n",
        "\n",
        "따라서 아래와 같이 unicode 형식은 변환해야함."
      ],
      "metadata": {
        "id": "II1A7E0q8i3K"
      }
    },
    {
      "cell_type": "code",
      "source": [
        "_bytes_feature(u\"test_encoding\".encode(\"utf-8\"))"
      ],
      "metadata": {
        "colab": {
          "base_uri": "https://localhost:8080/"
        },
        "id": "xMqPYH8i8wOn",
        "outputId": "e0023332-ccbd-4527-84cd-f3b8a7d867a4"
      },
      "execution_count": 6,
      "outputs": [
        {
          "output_type": "execute_result",
          "data": {
            "text/plain": [
              "bytes_list {\n",
              "  value: \"test_encoding\"\n",
              "}"
            ]
          },
          "metadata": {},
          "execution_count": 6
        }
      ]
    },
    {
      "cell_type": "markdown",
      "source": [
        "실제 파이썬에서 csv파일을 읽는다면 다음과 같다"
      ],
      "metadata": {
        "id": "gL5EDYtQNHr4"
      }
    },
    {
      "cell_type": "code",
      "source": [
        "# TFrecord\n",
        "def read_csv(file_path):\n",
        "  with open(file_path,\"r\") as r:\n",
        "    lines=r.readlines()\n",
        "  return lines"
      ],
      "metadata": {
        "id": "raQj8Pmg0CSn"
      },
      "execution_count": 7,
      "outputs": []
    },
    {
      "cell_type": "markdown",
      "source": [
        "실제 python에서 csv 파일을 읽으면 다음과 같다"
      ],
      "metadata": {
        "id": "3dHqwTm61KZg"
      }
    },
    {
      "cell_type": "code",
      "source": [
        "# 여기는 feature_name 임\n",
        "read_csv(\"/content/train.csv\")[0]"
      ],
      "metadata": {
        "colab": {
          "base_uri": "https://localhost:8080/",
          "height": 52
        },
        "id": "vCH5wt9w3Cye",
        "outputId": "75d29822-160f-4332-e61c-e538e43d2c73"
      },
      "execution_count": 8,
      "outputs": [
        {
          "output_type": "execute_result",
          "data": {
            "text/plain": [
              "'sessionID,userID,TARGET,browser,OS,device,new,quality,duration,bounced,transaction,transaction_revenue,continent,subcontinent,country,traffic_source,traffic_medium,keyword,referral_path\\n'"
            ],
            "application/vnd.google.colaboratory.intrinsic+json": {
              "type": "string"
            }
          },
          "metadata": {},
          "execution_count": 8
        }
      ]
    },
    {
      "cell_type": "code",
      "source": [
        "# 변환\n",
        "def tfrecord_maker(data,output_file):\n",
        "  with tf.io.TFRecordWriter(output_file) as w:\n",
        "    for line in data[1:]: # 첫번재 줄은 column_name 이므로\n",
        "      feature={\"css_line\":tf.train.Feature(bytes_list=tf.train.BytesList(value=[line.encode('utf-8')]))}\n",
        "      example=tf.train.Example(features=tf.train.Features(feature=feature))\n",
        "      w.write(example.SerializeToString())"
      ],
      "metadata": {
        "id": "XF4LwqIq3GCQ"
      },
      "execution_count": 9,
      "outputs": []
    },
    {
      "cell_type": "code",
      "source": [
        "# 저장하는 방법\n",
        "tfrecord_maker(read_csv(\"/content/train.csv\"),\"test_tfr\")"
      ],
      "metadata": {
        "id": "o-zzgnE8CA9j"
      },
      "execution_count": 10,
      "outputs": []
    },
    {
      "cell_type": "code",
      "source": [
        "# column_name은 메타데이터로 저장하는 것이 정석\n",
        "# 꼭 메타데이터가 다음과 같이 않고 따로 파일화 하거나, java형태를 띄기도 함\n",
        "feature_name=read_csv(\"/content/train.csv\")[0].split(\",\")\n",
        "print(feature_name)"
      ],
      "metadata": {
        "colab": {
          "base_uri": "https://localhost:8080/"
        },
        "id": "oD_1cIKh3Rei",
        "outputId": "51656a0e-4d2d-4af8-c6ac-9a6e487cf787"
      },
      "execution_count": 11,
      "outputs": [
        {
          "output_type": "stream",
          "name": "stdout",
          "text": [
            "['sessionID', 'userID', 'TARGET', 'browser', 'OS', 'device', 'new', 'quality', 'duration', 'bounced', 'transaction', 'transaction_revenue', 'continent', 'subcontinent', 'country', 'traffic_source', 'traffic_medium', 'keyword', 'referral_path\\n']\n"
          ]
        }
      ]
    },
    {
      "cell_type": "code",
      "source": [
        "# 다음과 같이 tfrecord를 만들 수 있다.\n",
        "def tfrecord_maker(data,output_file):\n",
        "  with tf.io.TFRecordWriter(output_file) as w:\n",
        "    feature={\"meta\":tf.train.Feature(bytes_list=tf.train.BytesList(value=[data[0].encode(\"utf-8\")]))\n",
        "        }\n",
        "    example=tf.train.Example(features=tf.train.Features(feature=feature))\n",
        "    w.write(example.SerializeToString())\n",
        "    for line in data[1:]: # 첫번재 줄은 column_name 이므로\n",
        "      feature={\"css_line\":tf.train.Feature(bytes_list=tf.train.BytesList(value=[line.encode('utf-8')]))}\n",
        "      example=tf.train.Example(features=tf.train.Features(feature=feature))\n",
        "      w.write(example.SerializeToString())"
      ],
      "metadata": {
        "id": "CIp0ql8W4d-d"
      },
      "execution_count": 12,
      "outputs": []
    },
    {
      "cell_type": "code",
      "source": [
        "tfrecord_maker(read_csv(\"/content/train.csv\"),\"test_tfr\")"
      ],
      "metadata": {
        "id": "4h2B2wTrD9Um"
      },
      "execution_count": 13,
      "outputs": []
    },
    {
      "cell_type": "markdown",
      "source": [
        "## 3. 읽어오기"
      ],
      "metadata": {
        "id": "zjJrTvMWEBFy"
      }
    },
    {
      "cell_type": "code",
      "source": [
        "test_tfr=tf.data.TFRecordDataset([\"/content/test_tfr\"])"
      ],
      "metadata": {
        "id": "dRTZWrvJGSLh"
      },
      "execution_count": 14,
      "outputs": []
    },
    {
      "cell_type": "code",
      "source": [
        "test_tfr"
      ],
      "metadata": {
        "colab": {
          "base_uri": "https://localhost:8080/"
        },
        "id": "fnkcz1kRGdT_",
        "outputId": "dab2ec02-b9c3-4c59-ea6c-c1526c555126"
      },
      "execution_count": 15,
      "outputs": [
        {
          "output_type": "execute_result",
          "data": {
            "text/plain": [
              "<TFRecordDatasetV2 element_spec=TensorSpec(shape=(), dtype=tf.string, name=None)>"
            ]
          },
          "metadata": {},
          "execution_count": 15
        }
      ]
    },
    {
      "cell_type": "code",
      "source": [
        "j=0\n",
        "for i in test_tfr:\n",
        "  print(i)\n",
        "  j+=1\n",
        "  if j==3:\n",
        "    break"
      ],
      "metadata": {
        "colab": {
          "base_uri": "https://localhost:8080/"
        },
        "id": "sx-Jn9NQGeV6",
        "outputId": "61b45bfb-0f31-4947-903d-e9356774a33c"
      },
      "execution_count": 16,
      "outputs": [
        {
          "output_type": "stream",
          "name": "stdout",
          "text": [
            "tf.Tensor(b'\\n\\xcc\\x01\\n\\xc9\\x01\\n\\x04meta\\x12\\xc0\\x01\\n\\xbd\\x01\\n\\xba\\x01sessionID,userID,TARGET,browser,OS,device,new,quality,duration,bounced,transaction,transaction_revenue,continent,subcontinent,country,traffic_source,traffic_medium,keyword,referral_path\\n', shape=(), dtype=string)\n",
            "tf.Tensor(b'\\n\\xa8\\x01\\n\\xa5\\x01\\n\\x08css_line\\x12\\x98\\x01\\n\\x95\\x01\\n\\x92\\x01SESSION_000000,USER_000000,17.0,Chrome,Macintosh,desktop,0,45.0,839.0,0,0.0,0.0,Americas,Northern America,United States,google,organic,Category8,\\n', shape=(), dtype=string)\n",
            "tf.Tensor(b'\\n\\x99\\x01\\n\\x96\\x01\\n\\x08css_line\\x12\\x89\\x01\\n\\x86\\x01\\n\\x83\\x01SESSION_000001,USER_000001,3.0,Chrome,Windows,desktop,1,1.0,39.0,0,0.0,0.0,Europe,Western Europe,Germany,google,organic,Category8,\\n', shape=(), dtype=string)\n"
          ]
        }
      ]
    },
    {
      "cell_type": "code",
      "source": [
        "train_data=pd.read_csv(\"/content/train.csv\")"
      ],
      "metadata": {
        "id": "1_uo4BjUHwzv"
      },
      "execution_count": 17,
      "outputs": []
    },
    {
      "cell_type": "code",
      "source": [
        "train=train_data.astype(\"str\")"
      ],
      "metadata": {
        "id": "qS6OxK8ZSzXW"
      },
      "execution_count": 18,
      "outputs": []
    },
    {
      "cell_type": "code",
      "source": [
        "train.info()"
      ],
      "metadata": {
        "colab": {
          "base_uri": "https://localhost:8080/"
        },
        "id": "-4yUjvOaS7i_",
        "outputId": "5871b01f-1b1b-4d5c-830c-8d5e55bb257d"
      },
      "execution_count": 19,
      "outputs": [
        {
          "output_type": "stream",
          "name": "stdout",
          "text": [
            "<class 'pandas.core.frame.DataFrame'>\n",
            "RangeIndex: 37861 entries, 0 to 37860\n",
            "Data columns (total 19 columns):\n",
            " #   Column               Non-Null Count  Dtype \n",
            "---  ------               --------------  ----- \n",
            " 0   sessionID            37861 non-null  object\n",
            " 1   userID               37861 non-null  object\n",
            " 2   TARGET               37861 non-null  object\n",
            " 3   browser              37861 non-null  object\n",
            " 4   OS                   37861 non-null  object\n",
            " 5   device               37861 non-null  object\n",
            " 6   new                  37861 non-null  object\n",
            " 7   quality              37861 non-null  object\n",
            " 8   duration             37861 non-null  object\n",
            " 9   bounced              37861 non-null  object\n",
            " 10  transaction          37861 non-null  object\n",
            " 11  transaction_revenue  37861 non-null  object\n",
            " 12  continent            37861 non-null  object\n",
            " 13  subcontinent         37861 non-null  object\n",
            " 14  country              37861 non-null  object\n",
            " 15  traffic_source       37861 non-null  object\n",
            " 16  traffic_medium       37861 non-null  object\n",
            " 17  keyword              37861 non-null  object\n",
            " 18  referral_path        37861 non-null  object\n",
            "dtypes: object(19)\n",
            "memory usage: 5.5+ MB\n"
          ]
        }
      ]
    },
    {
      "cell_type": "code",
      "source": [
        "values=[]\n",
        "for col in train.columns:\n",
        "  values.append(train[col].values)\n",
        "values=tuple(values)"
      ],
      "metadata": {
        "id": "eae5Gs_9H6G_"
      },
      "execution_count": 20,
      "outputs": []
    },
    {
      "cell_type": "code",
      "source": [
        "values"
      ],
      "metadata": {
        "colab": {
          "base_uri": "https://localhost:8080/"
        },
        "id": "8qnRBLyXKPRp",
        "outputId": "142cc8f2-b1d9-4130-e12d-6404ee94366d"
      },
      "execution_count": 21,
      "outputs": [
        {
          "output_type": "execute_result",
          "data": {
            "text/plain": [
              "(array(['SESSION_000000', 'SESSION_000001', 'SESSION_000002', ...,\n",
              "        'SESSION_037858', 'SESSION_037859', 'SESSION_037860'], dtype=object),\n",
              " array(['USER_000000', 'USER_000001', 'USER_000002', ..., 'USER_032131',\n",
              "        'USER_032132', 'USER_032133'], dtype=object),\n",
              " array(['17.0', '3.0', '1.0', ..., '1.0', '1.0', '1.0'], dtype=object),\n",
              " array(['Chrome', 'Chrome', 'Samsung Internet', ..., 'Chrome', 'Edge',\n",
              "        'Chrome'], dtype=object),\n",
              " array(['Macintosh', 'Windows', 'Android', ..., 'iOS', 'Windows',\n",
              "        'Windows'], dtype=object),\n",
              " array(['desktop', 'desktop', 'mobile', ..., 'mobile', 'desktop',\n",
              "        'desktop'], dtype=object),\n",
              " array(['0', '1', '1', ..., '1', '1', '1'], dtype=object),\n",
              " array(['45.0', '1.0', '1.0', ..., '1.0', '1.0', '1.0'], dtype=object),\n",
              " array(['839.0', '39.0', '0.0', ..., '0.0', '0.0', '0.0'], dtype=object),\n",
              " array(['0', '0', '1', ..., '1', '1', '1'], dtype=object),\n",
              " array(['0.0', '0.0', '0.0', ..., '0.0', '0.0', '0.0'], dtype=object),\n",
              " array(['0.0', '0.0', '0.0', ..., '0.0', '0.0', '0.0'], dtype=object),\n",
              " array(['Americas', 'Europe', 'Asia', ..., 'Americas', 'Americas',\n",
              "        'Europe'], dtype=object),\n",
              " array(['Northern America', 'Western Europe', 'Southeast Asia', ...,\n",
              "        'South America', 'Northern America', 'Southern Eu'], dtype=object),\n",
              " array(['United States', 'Germany', 'Malaysia', ..., 'Brazil',\n",
              "        'United States', 'nan'], dtype=object),\n",
              " array(['google', 'google', '(direct)', ..., 'google', 'Partners', 'nan'],\n",
              "       dtype=object),\n",
              " array(['organic', 'organic', '(none)', ..., 'organic', 'affiliate', 'nan'],\n",
              "       dtype=object),\n",
              " array(['Category8', 'Category8', 'nan', ..., 'Category8', 'nan', 'nan'],\n",
              "       dtype=object),\n",
              " array(['nan', 'nan', 'nan', ..., 'nan', 'nan', 'nan'], dtype=object))"
            ]
          },
          "metadata": {},
          "execution_count": 21
        }
      ]
    },
    {
      "cell_type": "markdown",
      "source": [
        "다만 이 방법을 쓰지 않을거임(많이 돌아가는 방법이라 굉장히 비효율)"
      ],
      "metadata": {
        "id": "0nL6lotSN229"
      }
    },
    {
      "cell_type": "code",
      "source": [
        "trans_train=tf.data.Dataset.from_tensor_slices(values)"
      ],
      "metadata": {
        "id": "MFUpv3v9IQr_"
      },
      "execution_count": 22,
      "outputs": []
    },
    {
      "cell_type": "code",
      "source": [
        "trans_train"
      ],
      "metadata": {
        "colab": {
          "base_uri": "https://localhost:8080/"
        },
        "id": "0Phsizt-TM3O",
        "outputId": "9461fb6e-e0c3-4629-a72e-396566f6f1a9"
      },
      "execution_count": 23,
      "outputs": [
        {
          "output_type": "execute_result",
          "data": {
            "text/plain": [
              "<_TensorSliceDataset element_spec=(TensorSpec(shape=(), dtype=tf.string, name=None), TensorSpec(shape=(), dtype=tf.string, name=None), TensorSpec(shape=(), dtype=tf.string, name=None), TensorSpec(shape=(), dtype=tf.string, name=None), TensorSpec(shape=(), dtype=tf.string, name=None), TensorSpec(shape=(), dtype=tf.string, name=None), TensorSpec(shape=(), dtype=tf.string, name=None), TensorSpec(shape=(), dtype=tf.string, name=None), TensorSpec(shape=(), dtype=tf.string, name=None), TensorSpec(shape=(), dtype=tf.string, name=None), TensorSpec(shape=(), dtype=tf.string, name=None), TensorSpec(shape=(), dtype=tf.string, name=None), TensorSpec(shape=(), dtype=tf.string, name=None), TensorSpec(shape=(), dtype=tf.string, name=None), TensorSpec(shape=(), dtype=tf.string, name=None), TensorSpec(shape=(), dtype=tf.string, name=None), TensorSpec(shape=(), dtype=tf.string, name=None), TensorSpec(shape=(), dtype=tf.string, name=None), TensorSpec(shape=(), dtype=tf.string, name=None))>"
            ]
          },
          "metadata": {},
          "execution_count": 23
        }
      ]
    },
    {
      "cell_type": "code",
      "source": [
        "j=0\n",
        "for i in trans_train:\n",
        "  print(i)\n",
        "  j+=1\n",
        "  if j==3:\n",
        "    break"
      ],
      "metadata": {
        "colab": {
          "base_uri": "https://localhost:8080/"
        },
        "id": "zoo9RbbITfKp",
        "outputId": "f1bb6b12-2f3c-47a2-8745-fd995055e778"
      },
      "execution_count": 24,
      "outputs": [
        {
          "output_type": "stream",
          "name": "stdout",
          "text": [
            "(<tf.Tensor: shape=(), dtype=string, numpy=b'SESSION_000000'>, <tf.Tensor: shape=(), dtype=string, numpy=b'USER_000000'>, <tf.Tensor: shape=(), dtype=string, numpy=b'17.0'>, <tf.Tensor: shape=(), dtype=string, numpy=b'Chrome'>, <tf.Tensor: shape=(), dtype=string, numpy=b'Macintosh'>, <tf.Tensor: shape=(), dtype=string, numpy=b'desktop'>, <tf.Tensor: shape=(), dtype=string, numpy=b'0'>, <tf.Tensor: shape=(), dtype=string, numpy=b'45.0'>, <tf.Tensor: shape=(), dtype=string, numpy=b'839.0'>, <tf.Tensor: shape=(), dtype=string, numpy=b'0'>, <tf.Tensor: shape=(), dtype=string, numpy=b'0.0'>, <tf.Tensor: shape=(), dtype=string, numpy=b'0.0'>, <tf.Tensor: shape=(), dtype=string, numpy=b'Americas'>, <tf.Tensor: shape=(), dtype=string, numpy=b'Northern America'>, <tf.Tensor: shape=(), dtype=string, numpy=b'United States'>, <tf.Tensor: shape=(), dtype=string, numpy=b'google'>, <tf.Tensor: shape=(), dtype=string, numpy=b'organic'>, <tf.Tensor: shape=(), dtype=string, numpy=b'Category8'>, <tf.Tensor: shape=(), dtype=string, numpy=b'nan'>)\n",
            "(<tf.Tensor: shape=(), dtype=string, numpy=b'SESSION_000001'>, <tf.Tensor: shape=(), dtype=string, numpy=b'USER_000001'>, <tf.Tensor: shape=(), dtype=string, numpy=b'3.0'>, <tf.Tensor: shape=(), dtype=string, numpy=b'Chrome'>, <tf.Tensor: shape=(), dtype=string, numpy=b'Windows'>, <tf.Tensor: shape=(), dtype=string, numpy=b'desktop'>, <tf.Tensor: shape=(), dtype=string, numpy=b'1'>, <tf.Tensor: shape=(), dtype=string, numpy=b'1.0'>, <tf.Tensor: shape=(), dtype=string, numpy=b'39.0'>, <tf.Tensor: shape=(), dtype=string, numpy=b'0'>, <tf.Tensor: shape=(), dtype=string, numpy=b'0.0'>, <tf.Tensor: shape=(), dtype=string, numpy=b'0.0'>, <tf.Tensor: shape=(), dtype=string, numpy=b'Europe'>, <tf.Tensor: shape=(), dtype=string, numpy=b'Western Europe'>, <tf.Tensor: shape=(), dtype=string, numpy=b'Germany'>, <tf.Tensor: shape=(), dtype=string, numpy=b'google'>, <tf.Tensor: shape=(), dtype=string, numpy=b'organic'>, <tf.Tensor: shape=(), dtype=string, numpy=b'Category8'>, <tf.Tensor: shape=(), dtype=string, numpy=b'nan'>)\n",
            "(<tf.Tensor: shape=(), dtype=string, numpy=b'SESSION_000002'>, <tf.Tensor: shape=(), dtype=string, numpy=b'USER_000002'>, <tf.Tensor: shape=(), dtype=string, numpy=b'1.0'>, <tf.Tensor: shape=(), dtype=string, numpy=b'Samsung Internet'>, <tf.Tensor: shape=(), dtype=string, numpy=b'Android'>, <tf.Tensor: shape=(), dtype=string, numpy=b'mobile'>, <tf.Tensor: shape=(), dtype=string, numpy=b'1'>, <tf.Tensor: shape=(), dtype=string, numpy=b'1.0'>, <tf.Tensor: shape=(), dtype=string, numpy=b'0.0'>, <tf.Tensor: shape=(), dtype=string, numpy=b'1'>, <tf.Tensor: shape=(), dtype=string, numpy=b'0.0'>, <tf.Tensor: shape=(), dtype=string, numpy=b'0.0'>, <tf.Tensor: shape=(), dtype=string, numpy=b'Asia'>, <tf.Tensor: shape=(), dtype=string, numpy=b'Southeast Asia'>, <tf.Tensor: shape=(), dtype=string, numpy=b'Malaysia'>, <tf.Tensor: shape=(), dtype=string, numpy=b'(direct)'>, <tf.Tensor: shape=(), dtype=string, numpy=b'(none)'>, <tf.Tensor: shape=(), dtype=string, numpy=b'nan'>, <tf.Tensor: shape=(), dtype=string, numpy=b'nan'>)\n"
          ]
        }
      ]
    },
    {
      "cell_type": "markdown",
      "source": [
        "-----\n"
      ],
      "metadata": {
        "id": "VHPU6b8oKLvH"
      }
    },
    {
      "cell_type": "markdown",
      "source": [
        "## 6. 그렇다면 왜 TFRecord가 왜 필요한가?\n",
        "\n",
        "- tf.data.dataset 의 형태와 가장 적합\n",
        "- 용량이 굉장히 줄어듬.\n",
        "- TFRecord의 압축버전 Gzip의 형태로 네트워크상 데이터를 교환함"
      ],
      "metadata": {
        "id": "UajA7a8UOHSX"
      }
    },
    {
      "cell_type": "markdown",
      "source": [
        "---------"
      ],
      "metadata": {
        "id": "ERf-YH9zRSG-"
      }
    },
    {
      "cell_type": "markdown",
      "source": [
        "## 텐서플로우의 데이터셋 형태에 대해 알아보자"
      ],
      "metadata": {
        "id": "O99wMHq0ReGr"
      }
    },
    {
      "cell_type": "markdown",
      "source": [
        "### 1. Data API\n",
        "간단히 살펴보자"
      ],
      "metadata": {
        "id": "Q5_8w3wYSlyc"
      }
    },
    {
      "cell_type": "code",
      "source": [
        "# 위에 비효율적이라 코딩된 부분\n",
        "test_dataset=tf.data.Dataset.from_tensor_slices([\n",
        "    [1,2,3],\n",
        "    [4,5,6]\n",
        "])"
      ],
      "metadata": {
        "id": "2nBDwzBaMXxZ"
      },
      "execution_count": 25,
      "outputs": []
    },
    {
      "cell_type": "code",
      "source": [
        "for i in test_dataset:\n",
        "  print(i)"
      ],
      "metadata": {
        "colab": {
          "base_uri": "https://localhost:8080/"
        },
        "id": "Zmd-4VM2PBtL",
        "outputId": "4f00c5f0-cd33-4f23-919f-18ef5b650fa5"
      },
      "execution_count": 26,
      "outputs": [
        {
          "output_type": "stream",
          "name": "stdout",
          "text": [
            "tf.Tensor([1 2 3], shape=(3,), dtype=int32)\n",
            "tf.Tensor([4 5 6], shape=(3,), dtype=int32)\n"
          ]
        }
      ]
    },
    {
      "cell_type": "markdown",
      "source": [
        "우리는 아래의 기능이 필요하다.\n",
        "\n",
        "위의 방법을 응용하면 다음과 같은 데이터 셋을 만들수 있는데"
      ],
      "metadata": {
        "id": "prbhhVMJPnSj"
      }
    },
    {
      "cell_type": "code",
      "source": [
        "# 위에서 보여줬던 데이터\n",
        "train_data=pd.read_csv(\"/content/train.csv\")"
      ],
      "metadata": {
        "id": "xJgbzEhIQKDm"
      },
      "execution_count": 27,
      "outputs": []
    },
    {
      "cell_type": "code",
      "source": [
        "# column 이름들\n",
        "dict(train_data).keys()"
      ],
      "metadata": {
        "colab": {
          "base_uri": "https://localhost:8080/"
        },
        "id": "XMVeyanKQP1K",
        "outputId": "1c53de03-4eec-49c3-84a0-78bb33358595"
      },
      "execution_count": 28,
      "outputs": [
        {
          "output_type": "execute_result",
          "data": {
            "text/plain": [
              "dict_keys(['sessionID', 'userID', 'TARGET', 'browser', 'OS', 'device', 'new', 'quality', 'duration', 'bounced', 'transaction', 'transaction_revenue', 'continent', 'subcontinent', 'country', 'traffic_source', 'traffic_medium', 'keyword', 'referral_path'])"
            ]
          },
          "metadata": {},
          "execution_count": 28
        }
      ]
    },
    {
      "cell_type": "markdown",
      "source": [
        "아래는 Nan값이 오류를 발생시키므로 전처리 하는 과정이므로\n",
        "\n",
        "\n",
        "개별적으로 편한대로 전처리 해도 상관없음\n"
      ],
      "metadata": {
        "id": "xgSGDp8oThjN"
      }
    },
    {
      "cell_type": "code",
      "source": [
        "# Nan 값은 에러를 발생시키므로\n",
        "import sklearn.preprocessing as skpre\n",
        "import sklearn.pipeline as skpip\n",
        "import sklearn.impute as skimp\n",
        "import sklearn.compose as skcom\n",
        "import numpy as np\n",
        "\n",
        "num_cols=train_data.select_dtypes(np.number).columns # numeric_columns\n",
        "obj_cols=train_data.select_dtypes(\"object\").columns\n",
        "\n",
        "num_pipe=skpip.make_pipeline(skimp.SimpleImputer(strategy=\"mean\")) # Nan값을 평균으로 채움\n",
        "obj_pipe=skpip.make_pipeline(skimp.SimpleImputer(strategy=\"most_frequent\")) # Nan값을 최빈값으로 채움\n",
        "\n",
        "total_pipe=skcom.make_column_transformer(\n",
        "    (num_pipe,num_cols),\n",
        "    (obj_pipe,obj_cols),\n",
        "    remainder=\"passthrough\" # 위의 column 중에 속하지 않는 column은 무시하라는 코드 -> 자세히 몰라도 상관없음\n",
        ")\n",
        "\n",
        "total_pipe.fit(train_data)"
      ],
      "metadata": {
        "colab": {
          "base_uri": "https://localhost:8080/",
          "height": 115
        },
        "id": "qi49-26wSoBf",
        "outputId": "a2a23e3a-d71e-4a9c-92d1-ff097a74f394"
      },
      "execution_count": 29,
      "outputs": [
        {
          "output_type": "execute_result",
          "data": {
            "text/plain": [
              "ColumnTransformer(remainder='passthrough',\n",
              "                  transformers=[('pipeline-1',\n",
              "                                 Pipeline(steps=[('simpleimputer',\n",
              "                                                  SimpleImputer())]),\n",
              "                                 Index(['TARGET', 'new', 'quality', 'duration', 'bounced', 'transaction',\n",
              "       'transaction_revenue'],\n",
              "      dtype='object')),\n",
              "                                ('pipeline-2',\n",
              "                                 Pipeline(steps=[('simpleimputer',\n",
              "                                                  SimpleImputer(strategy='most_frequent'))]),\n",
              "                                 Index(['sessionID', 'userID', 'browser', 'OS', 'device', 'continent',\n",
              "       'subcontinent', 'country', 'traffic_source', 'traffic_medium',\n",
              "       'keyword', 'referral_path'],\n",
              "      dtype='object'))])"
            ],
            "text/html": [
              "<style>#sk-container-id-1 {color: black;background-color: white;}#sk-container-id-1 pre{padding: 0;}#sk-container-id-1 div.sk-toggleable {background-color: white;}#sk-container-id-1 label.sk-toggleable__label {cursor: pointer;display: block;width: 100%;margin-bottom: 0;padding: 0.3em;box-sizing: border-box;text-align: center;}#sk-container-id-1 label.sk-toggleable__label-arrow:before {content: \"▸\";float: left;margin-right: 0.25em;color: #696969;}#sk-container-id-1 label.sk-toggleable__label-arrow:hover:before {color: black;}#sk-container-id-1 div.sk-estimator:hover label.sk-toggleable__label-arrow:before {color: black;}#sk-container-id-1 div.sk-toggleable__content {max-height: 0;max-width: 0;overflow: hidden;text-align: left;background-color: #f0f8ff;}#sk-container-id-1 div.sk-toggleable__content pre {margin: 0.2em;color: black;border-radius: 0.25em;background-color: #f0f8ff;}#sk-container-id-1 input.sk-toggleable__control:checked~div.sk-toggleable__content {max-height: 200px;max-width: 100%;overflow: auto;}#sk-container-id-1 input.sk-toggleable__control:checked~label.sk-toggleable__label-arrow:before {content: \"▾\";}#sk-container-id-1 div.sk-estimator input.sk-toggleable__control:checked~label.sk-toggleable__label {background-color: #d4ebff;}#sk-container-id-1 div.sk-label input.sk-toggleable__control:checked~label.sk-toggleable__label {background-color: #d4ebff;}#sk-container-id-1 input.sk-hidden--visually {border: 0;clip: rect(1px 1px 1px 1px);clip: rect(1px, 1px, 1px, 1px);height: 1px;margin: -1px;overflow: hidden;padding: 0;position: absolute;width: 1px;}#sk-container-id-1 div.sk-estimator {font-family: monospace;background-color: #f0f8ff;border: 1px dotted black;border-radius: 0.25em;box-sizing: border-box;margin-bottom: 0.5em;}#sk-container-id-1 div.sk-estimator:hover {background-color: #d4ebff;}#sk-container-id-1 div.sk-parallel-item::after {content: \"\";width: 100%;border-bottom: 1px solid gray;flex-grow: 1;}#sk-container-id-1 div.sk-label:hover label.sk-toggleable__label {background-color: #d4ebff;}#sk-container-id-1 div.sk-serial::before {content: \"\";position: absolute;border-left: 1px solid gray;box-sizing: border-box;top: 0;bottom: 0;left: 50%;z-index: 0;}#sk-container-id-1 div.sk-serial {display: flex;flex-direction: column;align-items: center;background-color: white;padding-right: 0.2em;padding-left: 0.2em;position: relative;}#sk-container-id-1 div.sk-item {position: relative;z-index: 1;}#sk-container-id-1 div.sk-parallel {display: flex;align-items: stretch;justify-content: center;background-color: white;position: relative;}#sk-container-id-1 div.sk-item::before, #sk-container-id-1 div.sk-parallel-item::before {content: \"\";position: absolute;border-left: 1px solid gray;box-sizing: border-box;top: 0;bottom: 0;left: 50%;z-index: -1;}#sk-container-id-1 div.sk-parallel-item {display: flex;flex-direction: column;z-index: 1;position: relative;background-color: white;}#sk-container-id-1 div.sk-parallel-item:first-child::after {align-self: flex-end;width: 50%;}#sk-container-id-1 div.sk-parallel-item:last-child::after {align-self: flex-start;width: 50%;}#sk-container-id-1 div.sk-parallel-item:only-child::after {width: 0;}#sk-container-id-1 div.sk-dashed-wrapped {border: 1px dashed gray;margin: 0 0.4em 0.5em 0.4em;box-sizing: border-box;padding-bottom: 0.4em;background-color: white;}#sk-container-id-1 div.sk-label label {font-family: monospace;font-weight: bold;display: inline-block;line-height: 1.2em;}#sk-container-id-1 div.sk-label-container {text-align: center;}#sk-container-id-1 div.sk-container {/* jupyter's `normalize.less` sets `[hidden] { display: none; }` but bootstrap.min.css set `[hidden] { display: none !important; }` so we also need the `!important` here to be able to override the default hidden behavior on the sphinx rendered scikit-learn.org. See: https://github.com/scikit-learn/scikit-learn/issues/21755 */display: inline-block !important;position: relative;}#sk-container-id-1 div.sk-text-repr-fallback {display: none;}</style><div id=\"sk-container-id-1\" class=\"sk-top-container\"><div class=\"sk-text-repr-fallback\"><pre>ColumnTransformer(remainder=&#x27;passthrough&#x27;,\n",
              "                  transformers=[(&#x27;pipeline-1&#x27;,\n",
              "                                 Pipeline(steps=[(&#x27;simpleimputer&#x27;,\n",
              "                                                  SimpleImputer())]),\n",
              "                                 Index([&#x27;TARGET&#x27;, &#x27;new&#x27;, &#x27;quality&#x27;, &#x27;duration&#x27;, &#x27;bounced&#x27;, &#x27;transaction&#x27;,\n",
              "       &#x27;transaction_revenue&#x27;],\n",
              "      dtype=&#x27;object&#x27;)),\n",
              "                                (&#x27;pipeline-2&#x27;,\n",
              "                                 Pipeline(steps=[(&#x27;simpleimputer&#x27;,\n",
              "                                                  SimpleImputer(strategy=&#x27;most_frequent&#x27;))]),\n",
              "                                 Index([&#x27;sessionID&#x27;, &#x27;userID&#x27;, &#x27;browser&#x27;, &#x27;OS&#x27;, &#x27;device&#x27;, &#x27;continent&#x27;,\n",
              "       &#x27;subcontinent&#x27;, &#x27;country&#x27;, &#x27;traffic_source&#x27;, &#x27;traffic_medium&#x27;,\n",
              "       &#x27;keyword&#x27;, &#x27;referral_path&#x27;],\n",
              "      dtype=&#x27;object&#x27;))])</pre><b>In a Jupyter environment, please rerun this cell to show the HTML representation or trust the notebook. <br />On GitHub, the HTML representation is unable to render, please try loading this page with nbviewer.org.</b></div><div class=\"sk-container\" hidden><div class=\"sk-item sk-dashed-wrapped\"><div class=\"sk-label-container\"><div class=\"sk-label sk-toggleable\"><input class=\"sk-toggleable__control sk-hidden--visually\" id=\"sk-estimator-id-1\" type=\"checkbox\" ><label for=\"sk-estimator-id-1\" class=\"sk-toggleable__label sk-toggleable__label-arrow\">ColumnTransformer</label><div class=\"sk-toggleable__content\"><pre>ColumnTransformer(remainder=&#x27;passthrough&#x27;,\n",
              "                  transformers=[(&#x27;pipeline-1&#x27;,\n",
              "                                 Pipeline(steps=[(&#x27;simpleimputer&#x27;,\n",
              "                                                  SimpleImputer())]),\n",
              "                                 Index([&#x27;TARGET&#x27;, &#x27;new&#x27;, &#x27;quality&#x27;, &#x27;duration&#x27;, &#x27;bounced&#x27;, &#x27;transaction&#x27;,\n",
              "       &#x27;transaction_revenue&#x27;],\n",
              "      dtype=&#x27;object&#x27;)),\n",
              "                                (&#x27;pipeline-2&#x27;,\n",
              "                                 Pipeline(steps=[(&#x27;simpleimputer&#x27;,\n",
              "                                                  SimpleImputer(strategy=&#x27;most_frequent&#x27;))]),\n",
              "                                 Index([&#x27;sessionID&#x27;, &#x27;userID&#x27;, &#x27;browser&#x27;, &#x27;OS&#x27;, &#x27;device&#x27;, &#x27;continent&#x27;,\n",
              "       &#x27;subcontinent&#x27;, &#x27;country&#x27;, &#x27;traffic_source&#x27;, &#x27;traffic_medium&#x27;,\n",
              "       &#x27;keyword&#x27;, &#x27;referral_path&#x27;],\n",
              "      dtype=&#x27;object&#x27;))])</pre></div></div></div><div class=\"sk-parallel\"><div class=\"sk-parallel-item\"><div class=\"sk-item\"><div class=\"sk-label-container\"><div class=\"sk-label sk-toggleable\"><input class=\"sk-toggleable__control sk-hidden--visually\" id=\"sk-estimator-id-2\" type=\"checkbox\" ><label for=\"sk-estimator-id-2\" class=\"sk-toggleable__label sk-toggleable__label-arrow\">pipeline-1</label><div class=\"sk-toggleable__content\"><pre>Index([&#x27;TARGET&#x27;, &#x27;new&#x27;, &#x27;quality&#x27;, &#x27;duration&#x27;, &#x27;bounced&#x27;, &#x27;transaction&#x27;,\n",
              "       &#x27;transaction_revenue&#x27;],\n",
              "      dtype=&#x27;object&#x27;)</pre></div></div></div><div class=\"sk-serial\"><div class=\"sk-item\"><div class=\"sk-serial\"><div class=\"sk-item\"><div class=\"sk-estimator sk-toggleable\"><input class=\"sk-toggleable__control sk-hidden--visually\" id=\"sk-estimator-id-3\" type=\"checkbox\" ><label for=\"sk-estimator-id-3\" class=\"sk-toggleable__label sk-toggleable__label-arrow\">SimpleImputer</label><div class=\"sk-toggleable__content\"><pre>SimpleImputer()</pre></div></div></div></div></div></div></div></div><div class=\"sk-parallel-item\"><div class=\"sk-item\"><div class=\"sk-label-container\"><div class=\"sk-label sk-toggleable\"><input class=\"sk-toggleable__control sk-hidden--visually\" id=\"sk-estimator-id-4\" type=\"checkbox\" ><label for=\"sk-estimator-id-4\" class=\"sk-toggleable__label sk-toggleable__label-arrow\">pipeline-2</label><div class=\"sk-toggleable__content\"><pre>Index([&#x27;sessionID&#x27;, &#x27;userID&#x27;, &#x27;browser&#x27;, &#x27;OS&#x27;, &#x27;device&#x27;, &#x27;continent&#x27;,\n",
              "       &#x27;subcontinent&#x27;, &#x27;country&#x27;, &#x27;traffic_source&#x27;, &#x27;traffic_medium&#x27;,\n",
              "       &#x27;keyword&#x27;, &#x27;referral_path&#x27;],\n",
              "      dtype=&#x27;object&#x27;)</pre></div></div></div><div class=\"sk-serial\"><div class=\"sk-item\"><div class=\"sk-serial\"><div class=\"sk-item\"><div class=\"sk-estimator sk-toggleable\"><input class=\"sk-toggleable__control sk-hidden--visually\" id=\"sk-estimator-id-5\" type=\"checkbox\" ><label for=\"sk-estimator-id-5\" class=\"sk-toggleable__label sk-toggleable__label-arrow\">SimpleImputer</label><div class=\"sk-toggleable__content\"><pre>SimpleImputer(strategy=&#x27;most_frequent&#x27;)</pre></div></div></div></div></div></div></div></div><div class=\"sk-parallel-item\"><div class=\"sk-item\"><div class=\"sk-label-container\"><div class=\"sk-label sk-toggleable\"><input class=\"sk-toggleable__control sk-hidden--visually\" id=\"sk-estimator-id-6\" type=\"checkbox\" ><label for=\"sk-estimator-id-6\" class=\"sk-toggleable__label sk-toggleable__label-arrow\">remainder</label><div class=\"sk-toggleable__content\"><pre>[]</pre></div></div></div><div class=\"sk-serial\"><div class=\"sk-item\"><div class=\"sk-estimator sk-toggleable\"><input class=\"sk-toggleable__control sk-hidden--visually\" id=\"sk-estimator-id-7\" type=\"checkbox\" ><label for=\"sk-estimator-id-7\" class=\"sk-toggleable__label sk-toggleable__label-arrow\">passthrough</label><div class=\"sk-toggleable__content\"><pre>passthrough</pre></div></div></div></div></div></div></div></div></div></div>"
            ]
          },
          "metadata": {},
          "execution_count": 29
        }
      ]
    },
    {
      "cell_type": "code",
      "source": [
        "def recall_column_name(x):\n",
        "  x=x.replace(\"pipeline-1__\",\"\")\n",
        "  x=x.replace(\"pipeline-2__\",\"\")\n",
        "  return x\n",
        "column_names_=list(map(recall_column_name,total_pipe.get_feature_names_out()))"
      ],
      "metadata": {
        "id": "OVx2V_7BVNJs"
      },
      "execution_count": 30,
      "outputs": []
    },
    {
      "cell_type": "code",
      "source": [
        "train_data=pd.DataFrame(total_pipe.transform(train_data),columns=column_names_)"
      ],
      "metadata": {
        "id": "F4pjexmkTUTM"
      },
      "execution_count": 31,
      "outputs": []
    },
    {
      "cell_type": "code",
      "source": [
        "train_data.head(3)"
      ],
      "metadata": {
        "colab": {
          "base_uri": "https://localhost:8080/",
          "height": 213
        },
        "id": "5banKC_4V_us",
        "outputId": "cde94014-8da4-47a6-f9dc-f5a16efc6017"
      },
      "execution_count": 32,
      "outputs": [
        {
          "output_type": "execute_result",
          "data": {
            "text/plain": [
              "  TARGET  new quality duration bounced transaction transaction_revenue  \\\n",
              "0   17.0  0.0    45.0    839.0     0.0         0.0                 0.0   \n",
              "1    3.0  1.0     1.0     39.0     0.0         0.0                 0.0   \n",
              "2    1.0  1.0     1.0      0.0     1.0         0.0                 0.0   \n",
              "\n",
              "        sessionID       userID           browser         OS   device  \\\n",
              "0  SESSION_000000  USER_000000            Chrome  Macintosh  desktop   \n",
              "1  SESSION_000001  USER_000001            Chrome    Windows  desktop   \n",
              "2  SESSION_000002  USER_000002  Samsung Internet    Android   mobile   \n",
              "\n",
              "  continent      subcontinent        country traffic_source traffic_medium  \\\n",
              "0  Americas  Northern America  United States         google        organic   \n",
              "1    Europe    Western Europe        Germany         google        organic   \n",
              "2      Asia    Southeast Asia       Malaysia       (direct)         (none)   \n",
              "\n",
              "     keyword referral_path  \n",
              "0  Category8     Category1  \n",
              "1  Category8     Category1  \n",
              "2  Category8     Category1  "
            ],
            "text/html": [
              "\n",
              "  <div id=\"df-436d61a0-fe92-4d24-b359-594ea5314bf6\" class=\"colab-df-container\">\n",
              "    <div>\n",
              "<style scoped>\n",
              "    .dataframe tbody tr th:only-of-type {\n",
              "        vertical-align: middle;\n",
              "    }\n",
              "\n",
              "    .dataframe tbody tr th {\n",
              "        vertical-align: top;\n",
              "    }\n",
              "\n",
              "    .dataframe thead th {\n",
              "        text-align: right;\n",
              "    }\n",
              "</style>\n",
              "<table border=\"1\" class=\"dataframe\">\n",
              "  <thead>\n",
              "    <tr style=\"text-align: right;\">\n",
              "      <th></th>\n",
              "      <th>TARGET</th>\n",
              "      <th>new</th>\n",
              "      <th>quality</th>\n",
              "      <th>duration</th>\n",
              "      <th>bounced</th>\n",
              "      <th>transaction</th>\n",
              "      <th>transaction_revenue</th>\n",
              "      <th>sessionID</th>\n",
              "      <th>userID</th>\n",
              "      <th>browser</th>\n",
              "      <th>OS</th>\n",
              "      <th>device</th>\n",
              "      <th>continent</th>\n",
              "      <th>subcontinent</th>\n",
              "      <th>country</th>\n",
              "      <th>traffic_source</th>\n",
              "      <th>traffic_medium</th>\n",
              "      <th>keyword</th>\n",
              "      <th>referral_path</th>\n",
              "    </tr>\n",
              "  </thead>\n",
              "  <tbody>\n",
              "    <tr>\n",
              "      <th>0</th>\n",
              "      <td>17.0</td>\n",
              "      <td>0.0</td>\n",
              "      <td>45.0</td>\n",
              "      <td>839.0</td>\n",
              "      <td>0.0</td>\n",
              "      <td>0.0</td>\n",
              "      <td>0.0</td>\n",
              "      <td>SESSION_000000</td>\n",
              "      <td>USER_000000</td>\n",
              "      <td>Chrome</td>\n",
              "      <td>Macintosh</td>\n",
              "      <td>desktop</td>\n",
              "      <td>Americas</td>\n",
              "      <td>Northern America</td>\n",
              "      <td>United States</td>\n",
              "      <td>google</td>\n",
              "      <td>organic</td>\n",
              "      <td>Category8</td>\n",
              "      <td>Category1</td>\n",
              "    </tr>\n",
              "    <tr>\n",
              "      <th>1</th>\n",
              "      <td>3.0</td>\n",
              "      <td>1.0</td>\n",
              "      <td>1.0</td>\n",
              "      <td>39.0</td>\n",
              "      <td>0.0</td>\n",
              "      <td>0.0</td>\n",
              "      <td>0.0</td>\n",
              "      <td>SESSION_000001</td>\n",
              "      <td>USER_000001</td>\n",
              "      <td>Chrome</td>\n",
              "      <td>Windows</td>\n",
              "      <td>desktop</td>\n",
              "      <td>Europe</td>\n",
              "      <td>Western Europe</td>\n",
              "      <td>Germany</td>\n",
              "      <td>google</td>\n",
              "      <td>organic</td>\n",
              "      <td>Category8</td>\n",
              "      <td>Category1</td>\n",
              "    </tr>\n",
              "    <tr>\n",
              "      <th>2</th>\n",
              "      <td>1.0</td>\n",
              "      <td>1.0</td>\n",
              "      <td>1.0</td>\n",
              "      <td>0.0</td>\n",
              "      <td>1.0</td>\n",
              "      <td>0.0</td>\n",
              "      <td>0.0</td>\n",
              "      <td>SESSION_000002</td>\n",
              "      <td>USER_000002</td>\n",
              "      <td>Samsung Internet</td>\n",
              "      <td>Android</td>\n",
              "      <td>mobile</td>\n",
              "      <td>Asia</td>\n",
              "      <td>Southeast Asia</td>\n",
              "      <td>Malaysia</td>\n",
              "      <td>(direct)</td>\n",
              "      <td>(none)</td>\n",
              "      <td>Category8</td>\n",
              "      <td>Category1</td>\n",
              "    </tr>\n",
              "  </tbody>\n",
              "</table>\n",
              "</div>\n",
              "    <div class=\"colab-df-buttons\">\n",
              "\n",
              "  <div class=\"colab-df-container\">\n",
              "    <button class=\"colab-df-convert\" onclick=\"convertToInteractive('df-436d61a0-fe92-4d24-b359-594ea5314bf6')\"\n",
              "            title=\"Convert this dataframe to an interactive table.\"\n",
              "            style=\"display:none;\">\n",
              "\n",
              "  <svg xmlns=\"http://www.w3.org/2000/svg\" height=\"24px\" viewBox=\"0 -960 960 960\">\n",
              "    <path d=\"M120-120v-720h720v720H120Zm60-500h600v-160H180v160Zm220 220h160v-160H400v160Zm0 220h160v-160H400v160ZM180-400h160v-160H180v160Zm440 0h160v-160H620v160ZM180-180h160v-160H180v160Zm440 0h160v-160H620v160Z\"/>\n",
              "  </svg>\n",
              "    </button>\n",
              "\n",
              "  <style>\n",
              "    .colab-df-container {\n",
              "      display:flex;\n",
              "      gap: 12px;\n",
              "    }\n",
              "\n",
              "    .colab-df-convert {\n",
              "      background-color: #E8F0FE;\n",
              "      border: none;\n",
              "      border-radius: 50%;\n",
              "      cursor: pointer;\n",
              "      display: none;\n",
              "      fill: #1967D2;\n",
              "      height: 32px;\n",
              "      padding: 0 0 0 0;\n",
              "      width: 32px;\n",
              "    }\n",
              "\n",
              "    .colab-df-convert:hover {\n",
              "      background-color: #E2EBFA;\n",
              "      box-shadow: 0px 1px 2px rgba(60, 64, 67, 0.3), 0px 1px 3px 1px rgba(60, 64, 67, 0.15);\n",
              "      fill: #174EA6;\n",
              "    }\n",
              "\n",
              "    .colab-df-buttons div {\n",
              "      margin-bottom: 4px;\n",
              "    }\n",
              "\n",
              "    [theme=dark] .colab-df-convert {\n",
              "      background-color: #3B4455;\n",
              "      fill: #D2E3FC;\n",
              "    }\n",
              "\n",
              "    [theme=dark] .colab-df-convert:hover {\n",
              "      background-color: #434B5C;\n",
              "      box-shadow: 0px 1px 3px 1px rgba(0, 0, 0, 0.15);\n",
              "      filter: drop-shadow(0px 1px 2px rgba(0, 0, 0, 0.3));\n",
              "      fill: #FFFFFF;\n",
              "    }\n",
              "  </style>\n",
              "\n",
              "    <script>\n",
              "      const buttonEl =\n",
              "        document.querySelector('#df-436d61a0-fe92-4d24-b359-594ea5314bf6 button.colab-df-convert');\n",
              "      buttonEl.style.display =\n",
              "        google.colab.kernel.accessAllowed ? 'block' : 'none';\n",
              "\n",
              "      async function convertToInteractive(key) {\n",
              "        const element = document.querySelector('#df-436d61a0-fe92-4d24-b359-594ea5314bf6');\n",
              "        const dataTable =\n",
              "          await google.colab.kernel.invokeFunction('convertToInteractive',\n",
              "                                                    [key], {});\n",
              "        if (!dataTable) return;\n",
              "\n",
              "        const docLinkHtml = 'Like what you see? Visit the ' +\n",
              "          '<a target=\"_blank\" href=https://colab.research.google.com/notebooks/data_table.ipynb>data table notebook</a>'\n",
              "          + ' to learn more about interactive tables.';\n",
              "        element.innerHTML = '';\n",
              "        dataTable['output_type'] = 'display_data';\n",
              "        await google.colab.output.renderOutput(dataTable, element);\n",
              "        const docLink = document.createElement('div');\n",
              "        docLink.innerHTML = docLinkHtml;\n",
              "        element.appendChild(docLink);\n",
              "      }\n",
              "    </script>\n",
              "  </div>\n",
              "\n",
              "\n",
              "<div id=\"df-03264688-6145-49a9-a273-2650bd110be3\">\n",
              "  <button class=\"colab-df-quickchart\" onclick=\"quickchart('df-03264688-6145-49a9-a273-2650bd110be3')\"\n",
              "            title=\"Suggest charts\"\n",
              "            style=\"display:none;\">\n",
              "\n",
              "<svg xmlns=\"http://www.w3.org/2000/svg\" height=\"24px\"viewBox=\"0 0 24 24\"\n",
              "     width=\"24px\">\n",
              "    <g>\n",
              "        <path d=\"M19 3H5c-1.1 0-2 .9-2 2v14c0 1.1.9 2 2 2h14c1.1 0 2-.9 2-2V5c0-1.1-.9-2-2-2zM9 17H7v-7h2v7zm4 0h-2V7h2v10zm4 0h-2v-4h2v4z\"/>\n",
              "    </g>\n",
              "</svg>\n",
              "  </button>\n",
              "\n",
              "<style>\n",
              "  .colab-df-quickchart {\n",
              "      --bg-color: #E8F0FE;\n",
              "      --fill-color: #1967D2;\n",
              "      --hover-bg-color: #E2EBFA;\n",
              "      --hover-fill-color: #174EA6;\n",
              "      --disabled-fill-color: #AAA;\n",
              "      --disabled-bg-color: #DDD;\n",
              "  }\n",
              "\n",
              "  [theme=dark] .colab-df-quickchart {\n",
              "      --bg-color: #3B4455;\n",
              "      --fill-color: #D2E3FC;\n",
              "      --hover-bg-color: #434B5C;\n",
              "      --hover-fill-color: #FFFFFF;\n",
              "      --disabled-bg-color: #3B4455;\n",
              "      --disabled-fill-color: #666;\n",
              "  }\n",
              "\n",
              "  .colab-df-quickchart {\n",
              "    background-color: var(--bg-color);\n",
              "    border: none;\n",
              "    border-radius: 50%;\n",
              "    cursor: pointer;\n",
              "    display: none;\n",
              "    fill: var(--fill-color);\n",
              "    height: 32px;\n",
              "    padding: 0;\n",
              "    width: 32px;\n",
              "  }\n",
              "\n",
              "  .colab-df-quickchart:hover {\n",
              "    background-color: var(--hover-bg-color);\n",
              "    box-shadow: 0 1px 2px rgba(60, 64, 67, 0.3), 0 1px 3px 1px rgba(60, 64, 67, 0.15);\n",
              "    fill: var(--button-hover-fill-color);\n",
              "  }\n",
              "\n",
              "  .colab-df-quickchart-complete:disabled,\n",
              "  .colab-df-quickchart-complete:disabled:hover {\n",
              "    background-color: var(--disabled-bg-color);\n",
              "    fill: var(--disabled-fill-color);\n",
              "    box-shadow: none;\n",
              "  }\n",
              "\n",
              "  .colab-df-spinner {\n",
              "    border: 2px solid var(--fill-color);\n",
              "    border-color: transparent;\n",
              "    border-bottom-color: var(--fill-color);\n",
              "    animation:\n",
              "      spin 1s steps(1) infinite;\n",
              "  }\n",
              "\n",
              "  @keyframes spin {\n",
              "    0% {\n",
              "      border-color: transparent;\n",
              "      border-bottom-color: var(--fill-color);\n",
              "      border-left-color: var(--fill-color);\n",
              "    }\n",
              "    20% {\n",
              "      border-color: transparent;\n",
              "      border-left-color: var(--fill-color);\n",
              "      border-top-color: var(--fill-color);\n",
              "    }\n",
              "    30% {\n",
              "      border-color: transparent;\n",
              "      border-left-color: var(--fill-color);\n",
              "      border-top-color: var(--fill-color);\n",
              "      border-right-color: var(--fill-color);\n",
              "    }\n",
              "    40% {\n",
              "      border-color: transparent;\n",
              "      border-right-color: var(--fill-color);\n",
              "      border-top-color: var(--fill-color);\n",
              "    }\n",
              "    60% {\n",
              "      border-color: transparent;\n",
              "      border-right-color: var(--fill-color);\n",
              "    }\n",
              "    80% {\n",
              "      border-color: transparent;\n",
              "      border-right-color: var(--fill-color);\n",
              "      border-bottom-color: var(--fill-color);\n",
              "    }\n",
              "    90% {\n",
              "      border-color: transparent;\n",
              "      border-bottom-color: var(--fill-color);\n",
              "    }\n",
              "  }\n",
              "</style>\n",
              "\n",
              "  <script>\n",
              "    async function quickchart(key) {\n",
              "      const quickchartButtonEl =\n",
              "        document.querySelector('#' + key + ' button');\n",
              "      quickchartButtonEl.disabled = true;  // To prevent multiple clicks.\n",
              "      quickchartButtonEl.classList.add('colab-df-spinner');\n",
              "      try {\n",
              "        const charts = await google.colab.kernel.invokeFunction(\n",
              "            'suggestCharts', [key], {});\n",
              "      } catch (error) {\n",
              "        console.error('Error during call to suggestCharts:', error);\n",
              "      }\n",
              "      quickchartButtonEl.classList.remove('colab-df-spinner');\n",
              "      quickchartButtonEl.classList.add('colab-df-quickchart-complete');\n",
              "    }\n",
              "    (() => {\n",
              "      let quickchartButtonEl =\n",
              "        document.querySelector('#df-03264688-6145-49a9-a273-2650bd110be3 button');\n",
              "      quickchartButtonEl.style.display =\n",
              "        google.colab.kernel.accessAllowed ? 'block' : 'none';\n",
              "    })();\n",
              "  </script>\n",
              "</div>\n",
              "\n",
              "    </div>\n",
              "  </div>\n"
            ],
            "application/vnd.google.colaboratory.intrinsic+json": {
              "type": "dataframe",
              "variable_name": "train_data",
              "repr_error": "'str' object has no attribute 'empty'"
            }
          },
          "metadata": {},
          "execution_count": 32
        }
      ]
    },
    {
      "cell_type": "code",
      "source": [
        "train_data[num_cols]=train_data[num_cols].astype(\"float\")\n",
        "\n",
        "# 우리가 사용할때 유용한 형태로 변환해보자. 비효율적이라 얘기했지만 우선 보여주기 위해 진행\n",
        "features=train_data.columns.difference([\"TARGET\"]) # 종속변수를 제외\n",
        "target=\"TARGET\""
      ],
      "metadata": {
        "id": "fp8B17LeQSWk"
      },
      "execution_count": 33,
      "outputs": []
    },
    {
      "cell_type": "code",
      "source": [
        "train_data.info()"
      ],
      "metadata": {
        "colab": {
          "base_uri": "https://localhost:8080/"
        },
        "id": "6iiVhYWVWxJs",
        "outputId": "eb7c978d-1ef4-4f6b-a326-fe66fb8188c6"
      },
      "execution_count": 34,
      "outputs": [
        {
          "output_type": "stream",
          "name": "stdout",
          "text": [
            "<class 'pandas.core.frame.DataFrame'>\n",
            "RangeIndex: 45462 entries, 0 to 45461\n",
            "Data columns (total 19 columns):\n",
            " #   Column               Non-Null Count  Dtype  \n",
            "---  ------               --------------  -----  \n",
            " 0   TARGET               45462 non-null  float64\n",
            " 1   new                  45462 non-null  float64\n",
            " 2   quality              45462 non-null  float64\n",
            " 3   duration             45462 non-null  float64\n",
            " 4   bounced              45462 non-null  float64\n",
            " 5   transaction          45462 non-null  float64\n",
            " 6   transaction_revenue  45462 non-null  float64\n",
            " 7   sessionID            45462 non-null  object \n",
            " 8   userID               45462 non-null  object \n",
            " 9   browser              45462 non-null  object \n",
            " 10  OS                   45462 non-null  object \n",
            " 11  device               45462 non-null  object \n",
            " 12  continent            45462 non-null  object \n",
            " 13  subcontinent         45462 non-null  object \n",
            " 14  country              45462 non-null  object \n",
            " 15  traffic_source       45462 non-null  object \n",
            " 16  traffic_medium       45462 non-null  object \n",
            " 17  keyword              45462 non-null  object \n",
            " 18  referral_path        45462 non-null  object \n",
            "dtypes: float64(7), object(12)\n",
            "memory usage: 6.6+ MB\n"
          ]
        }
      ]
    },
    {
      "cell_type": "code",
      "source": [
        "# 구조에 집중\n",
        "# 타입이 같은 것끼리 묶어야 오류가 안남 -> tfrecord에서는 모두 str으로 바꿨음(csv파일과 동일하게 보여지기 위해서)\n",
        "num_features=train_data.select_dtypes(np.number).columns.difference([target])\n",
        "obj_features=train_data.select_dtypes(\"object\").columns.difference([target])\n",
        "train_slice_={\"num_features\":train_data[num_features].values,\n",
        "              \"obj_features\":train_data[obj_features].values,\n",
        "              \"target\":train_data[target].values}"
      ],
      "metadata": {
        "id": "QJKZfxvAQ1xs"
      },
      "execution_count": 35,
      "outputs": []
    },
    {
      "cell_type": "code",
      "source": [
        "train_tfd=tf.data.Dataset.from_tensor_slices(train_slice_)"
      ],
      "metadata": {
        "id": "PFc3viY0SkDP"
      },
      "execution_count": 36,
      "outputs": []
    },
    {
      "cell_type": "code",
      "source": [
        "j=0\n",
        "for i in train_tfd:\n",
        "  print(i)\n",
        "  j+=1\n",
        "  if j==3:\n",
        "    break"
      ],
      "metadata": {
        "colab": {
          "base_uri": "https://localhost:8080/"
        },
        "id": "PFMIo5FPaP0Z",
        "outputId": "c6dc3a51-1907-4897-b92e-4cf6a6e56fee"
      },
      "execution_count": 37,
      "outputs": [
        {
          "output_type": "stream",
          "name": "stdout",
          "text": [
            "{'num_features': <tf.Tensor: shape=(6,), dtype=float64, numpy=array([  0., 839.,   0.,  45.,   0.,   0.])>, 'obj_features': <tf.Tensor: shape=(12,), dtype=string, numpy=\n",
            "array([b'Macintosh', b'Chrome', b'Americas', b'United States', b'desktop',\n",
            "       b'Category8', b'Category1', b'SESSION_000000', b'Northern America',\n",
            "       b'organic', b'google', b'USER_000000'], dtype=object)>, 'target': <tf.Tensor: shape=(), dtype=float64, numpy=17.0>}\n",
            "{'num_features': <tf.Tensor: shape=(6,), dtype=float64, numpy=array([ 0., 39.,  1.,  1.,  0.,  0.])>, 'obj_features': <tf.Tensor: shape=(12,), dtype=string, numpy=\n",
            "array([b'Windows', b'Chrome', b'Europe', b'Germany', b'desktop',\n",
            "       b'Category8', b'Category1', b'SESSION_000001', b'Western Europe',\n",
            "       b'organic', b'google', b'USER_000001'], dtype=object)>, 'target': <tf.Tensor: shape=(), dtype=float64, numpy=3.0>}\n",
            "{'num_features': <tf.Tensor: shape=(6,), dtype=float64, numpy=array([1., 0., 1., 1., 0., 0.])>, 'obj_features': <tf.Tensor: shape=(12,), dtype=string, numpy=\n",
            "array([b'Android', b'Samsung Internet', b'Asia', b'Malaysia', b'mobile',\n",
            "       b'Category8', b'Category1', b'SESSION_000002', b'Southeast Asia',\n",
            "       b'(none)', b'(direct)', b'USER_000002'], dtype=object)>, 'target': <tf.Tensor: shape=(), dtype=float64, numpy=1.0>}\n"
          ]
        }
      ]
    },
    {
      "cell_type": "markdown",
      "source": [
        "위처럼 데이터를 구분해서 변환이 가능하다.\n",
        "\n",
        "또한 아래의 기능들을 지원하는데 간단히 알아보자"
      ],
      "metadata": {
        "id": "APlLbYywaj3_"
      }
    },
    {
      "cell_type": "markdown",
      "source": [
        "#### 1. 데이터셋 반복시키기"
      ],
      "metadata": {
        "id": "BVWdaCu91r2y"
      }
    },
    {
      "cell_type": "code",
      "source": [
        "train_tfd.repeat(3)"
      ],
      "metadata": {
        "colab": {
          "base_uri": "https://localhost:8080/"
        },
        "id": "qdON3ebq1dH5",
        "outputId": "5f34bb54-82cb-42de-cdd9-292b7a56b579"
      },
      "execution_count": 41,
      "outputs": [
        {
          "output_type": "execute_result",
          "data": {
            "text/plain": [
              "<_RepeatDataset element_spec={'num_features': TensorSpec(shape=(6,), dtype=tf.float64, name=None), 'obj_features': TensorSpec(shape=(12,), dtype=tf.string, name=None), 'target': TensorSpec(shape=(), dtype=tf.float64, name=None)}>"
            ]
          },
          "metadata": {},
          "execution_count": 41
        }
      ]
    },
    {
      "cell_type": "markdown",
      "source": [
        "#### 2. 데이터셋에서 배치사이즈 조절"
      ],
      "metadata": {
        "id": "BAN26kdz1lr3"
      }
    },
    {
      "cell_type": "code",
      "source": [
        "train_tfd.batch(30) # 배치사이즈를 30으로 조정"
      ],
      "metadata": {
        "colab": {
          "base_uri": "https://localhost:8080/"
        },
        "id": "Tld64vYZ147T",
        "outputId": "d3a81ef1-6787-4c2b-923a-485109427696"
      },
      "execution_count": 42,
      "outputs": [
        {
          "output_type": "execute_result",
          "data": {
            "text/plain": [
              "<_BatchDataset element_spec={'num_features': TensorSpec(shape=(None, 6), dtype=tf.float64, name=None), 'obj_features': TensorSpec(shape=(None, 12), dtype=tf.string, name=None), 'target': TensorSpec(shape=(None,), dtype=tf.float64, name=None)}>"
            ]
          },
          "metadata": {},
          "execution_count": 42
        }
      ]
    },
    {
      "cell_type": "markdown",
      "source": [
        "#### 3. 데이터셋에서 데이터 셔플링\n",
        "- 1. 버퍼 크기의 샘플을 랜덤 추출 후 하나의 샘플을 뽑음\n",
        "- 2. 버퍼가 비워지면 다시 버퍼 채우기\n",
        "- 3. 원본 데이터 고갈까지 반복"
      ],
      "metadata": {
        "id": "yzv3f1it1-5G"
      }
    },
    {
      "cell_type": "code",
      "source": [
        "shuffled_tdf=train_tfd.shuffle(buffer_size=30,seed=5)"
      ],
      "metadata": {
        "id": "ApAiWPaa2b6T"
      },
      "execution_count": 45,
      "outputs": []
    },
    {
      "cell_type": "code",
      "source": [
        "j=0\n",
        "for i in shuffled_tdf:\n",
        "  print(i)\n",
        "  j+=1\n",
        "  if j==3:\n",
        "    break"
      ],
      "metadata": {
        "colab": {
          "base_uri": "https://localhost:8080/"
        },
        "id": "FUNk6K3f2-bg",
        "outputId": "5b751f98-5ec9-4005-c954-c4b1e8adcc97"
      },
      "execution_count": 47,
      "outputs": [
        {
          "output_type": "stream",
          "name": "stdout",
          "text": [
            "{'num_features': <tf.Tensor: shape=(6,), dtype=float64, numpy=array([ 0., 34.,  1.,  2.,  0.,  0.])>, 'obj_features': <tf.Tensor: shape=(12,), dtype=string, numpy=\n",
            "array([b'Macintosh', b'Chrome', b'Americas', b'United States', b'desktop',\n",
            "       b'Category8', b'Category1', b'SESSION_000014', b'Northern America',\n",
            "       b'organic', b'google', b'USER_000014'], dtype=object)>, 'target': <tf.Tensor: shape=(), dtype=float64, numpy=4.0>}\n",
            "{'num_features': <tf.Tensor: shape=(6,), dtype=float64, numpy=array([1., 0., 1., 1., 0., 0.])>, 'obj_features': <tf.Tensor: shape=(12,), dtype=string, numpy=\n",
            "array([b'iOS', b'Safari (in-app)', b'Americas', b'Mexico', b'mobile',\n",
            "       b'Category9', b'Category1', b'SESSION_000016', b'Central America',\n",
            "       b'cpc', b'google', b'USER_000016'], dtype=object)>, 'target': <tf.Tensor: shape=(), dtype=float64, numpy=1.0>}\n",
            "{'num_features': <tf.Tensor: shape=(6,), dtype=float64, numpy=array([  0., 208.,   0.,  13.,   0.,   0.])>, 'obj_features': <tf.Tensor: shape=(12,), dtype=string, numpy=\n",
            "array([b'iOS', b'Safari', b'Americas', b'United States', b'mobile',\n",
            "       b'Category8', b'Category1', b'SESSION_000023', b'Northern America',\n",
            "       b'organic', b'google', b'USER_000023'], dtype=object)>, 'target': <tf.Tensor: shape=(), dtype=float64, numpy=10.0>}\n"
          ]
        }
      ]
    },
    {
      "cell_type": "markdown",
      "source": [
        "TFRecord는 텐서플로우에 굉장히 잘 들어맞는 데이터형태이고 텐서플로우에서 데이터를 어떻게 다루는지 간단히 소개해봤다.\n",
        "\n",
        "데이터 전처리와 더 많은 기능은 천천히 소개할 예정.\n",
        "\n",
        "우선 이정도로 간단한 TFRecord와 텐서플로우 데이터셋의 소개를 마치겠다."
      ],
      "metadata": {
        "id": "G9Qly0VI3FP_"
      }
    },
    {
      "cell_type": "code",
      "source": [],
      "metadata": {
        "id": "LGVH7U5K4Aa3"
      },
      "execution_count": null,
      "outputs": []
    }
  ]
}